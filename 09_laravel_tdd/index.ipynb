{
 "cells": [
  {
   "cell_type": "markdown",
   "metadata": {},
   "source": [
    "# PHP 2020"
   ]
  },
  {
   "cell_type": "markdown",
   "metadata": {},
   "source": [
    "## 9. Laravel TDD"
   ]
  },
  {
   "cell_type": "markdown",
   "metadata": {},
   "source": [
    "Tasks:\n",
    "\n",
    "- Fix failing tests by implementing missing functionality using Laravel\n",
    "- Do not modify tests or scripts\n",
    "- Remember to regenerate database dump after database migrations or seeding"
   ]
  },
  {
   "cell_type": "markdown",
   "metadata": {},
   "source": [
    "Resources:\n",
    "\n",
    "- [Authentication](https://laravel.com/docs/8.x/authentication)\n",
    "- [Starter Kits / Laravel Breeze](https://laravel.com/docs/8.x/starter-kits)\n",
    "- [Blade Templates](https://laravel.com/docs/8.x/blade)\n",
    "- [Tailwind CSS](https://tailwindcss.com/)\n",
    "- [graham-campbell/markdown](https://packagist.org/packages/graham-campbell/markdown)"
   ]
  },
  {
   "cell_type": "markdown",
   "metadata": {},
   "source": [
    "Start database:"
   ]
  },
  {
   "cell_type": "code",
   "execution_count": 50,
   "metadata": {},
   "outputs": [
    {
     "name": "stdout",
     "output_type": "stream",
     "text": [
      "aebc975c21d892747c2798d8adff1ff55864dbb6b2cc04fa4a06bbad14e6196e\r\n"
     ]
    }
   ],
   "source": [
    "! docker run --name=mysql --net=host --rm --env MYSQL_ROOT_PASSWORD=root123 --env MYSQL_DATABASE=test --env MYSQL_USER=test --env MYSQL_PASSWORD=test123 -d mysql/mysql-server:8.0"
   ]
  },
  {
   "cell_type": "code",
   "execution_count": 51,
   "metadata": {},
   "outputs": [
    {
     "name": "stdout",
     "output_type": "stream",
     "text": [
      "Done.\r\n"
     ]
    }
   ],
   "source": [
    "! while ! timeout 1 bash -c \"echo > /dev/tcp/localhost/3306\" 2> /dev/null; do sleep 1; done; echo \"Done.\";"
   ]
  },
  {
   "cell_type": "markdown",
   "metadata": {},
   "source": [
    "Edit the code:"
   ]
  },
  {
   "cell_type": "code",
   "execution_count": 63,
   "metadata": {},
   "outputs": [
    {
     "name": "stdout",
     "output_type": "stream",
     "text": [
      "OpenJDK 64-Bit Server VM warning: Option UseConcMarkSweepGC was deprecated in version 9.0 and will likely be removed in a future release.\n",
      "2021-01-18 00:19:31,880 [   5710]   WARN - Container.ComponentManagerImpl - Do not use constructor injection (requestorClass=org.jetbrains.plugins.phpstorm.PhpStormInitialConfigurator) \n",
      "2021-01-18 00:19:40,297 [  14127]   WARN - pl.local.NativeFileWatcherImpl - Watcher terminated with exit code 3 \n",
      "2021-01-18 00:19:40,485 [  14315]   WARN - pl.local.NativeFileWatcherImpl - Watcher terminated with exit code 3 \n",
      "2021-01-18 00:19:40,639 [  14469]   WARN - com.intellij.util.xmlb.Binding - no accessors for com.jetbrains.php.testFramework.PhpTestFrameworkType \n",
      "2021-01-18 00:19:40,721 [  14551]   WARN - pl.local.NativeFileWatcherImpl - Watcher terminated with exit code 3 \n",
      "2021-01-18 00:19:40,946 [  14776]   WARN - pl.local.NativeFileWatcherImpl - Watcher terminated with exit code 3 \n",
      "2021-01-18 00:19:41,112 [  14942]   WARN - pl.local.NativeFileWatcherImpl - Watcher terminated with exit code 3 \n",
      "2021-01-18 00:19:41,301 [  15131]   WARN - pl.local.NativeFileWatcherImpl - Watcher terminated with exit code 3 \n",
      "2021-01-18 00:19:41,464 [  15294]   WARN - pl.local.NativeFileWatcherImpl - Watcher terminated with exit code 3 \n",
      "2021-01-18 00:19:41,607 [  15437]   WARN - pl.local.NativeFileWatcherImpl - Watcher terminated with exit code 3 \n",
      "2021-01-18 00:19:41,777 [  15607]   WARN - pl.local.NativeFileWatcherImpl - Watcher terminated with exit code 3 \n",
      "2021-01-18 00:19:41,958 [  15788]   WARN - pl.local.NativeFileWatcherImpl - Watcher terminated with exit code 3 \n",
      "2021-01-18 00:19:41,958 [  15788]   WARN - api.vfs.impl.local.FileWatcher - File watcher failed to start \n",
      "2021-01-18 00:20:43,971 [  77801]   WARN - .AbstractProgressIndicatorBase - This progress indicator is indeterminate, this may lead to visual inconsistency. Please call setIndeterminate(false) before you start progress.\n",
      "com.intellij.openapi.vcs.impl.CodeSmellDetectorImpl.findCodeSmells(CodeSmellDetectorImpl.java:137) \n",
      "2021-01-18 00:22:17,718 [ 171548]   WARN - com.intellij.util.xmlb.Binding - no accessors for org.jetbrains.idea.perforce.perforce.ConnectionId \n",
      "2021-01-18 00:22:48,345 [ 202175]   WARN - .AbstractProgressIndicatorBase - This progress indicator is indeterminate, this may lead to visual inconsistency. Please call setIndeterminate(false) before you start progress.\n",
      "com.intellij.openapi.vcs.impl.CodeSmellDetectorImpl.findCodeSmells(CodeSmellDetectorImpl.java:137) \n",
      "2021-01-18 00:22:59,017 [ 212847]   WARN - .AbstractProgressIndicatorBase - This progress indicator is indeterminate, this may lead to visual inconsistency. Please call setIndeterminate(false) before you start progress.\n",
      "git4idea.commands.GitStandardProgressAnalyzer$1.onLineAvailable(GitStandardProgressAnalyzer.java:45) \n"
     ]
    }
   ],
   "source": [
    "! phpstorm project"
   ]
  },
  {
   "cell_type": "markdown",
   "metadata": {},
   "source": [
    "You can test your solution using included tests:"
   ]
  },
  {
   "cell_type": "code",
   "execution_count": 62,
   "metadata": {},
   "outputs": [
    {
     "name": "stdout",
     "output_type": "stream",
     "text": [
      "/home/student/projekt/php_2020_laravel_cms_w_snake_case/09_laravel_tdd\n"
     ]
    }
   ],
   "source": [
    "%cd .."
   ]
  },
  {
   "cell_type": "code",
   "execution_count": 65,
   "metadata": {},
   "outputs": [
    {
     "name": "stdout",
     "output_type": "stream",
     "text": [
      "/home/student/projekt/php_2020_laravel_cms_w_snake_case/09_laravel_tdd/project\n"
     ]
    }
   ],
   "source": [
    "%cd project"
   ]
  },
  {
   "cell_type": "code",
   "execution_count": 53,
   "metadata": {},
   "outputs": [
    {
     "name": "stdout",
     "output_type": "stream",
     "text": [
      "\u001b[32mLoading composer repositories with package information\u001b[39m\n",
      "\u001b[32mInstalling dependencies (including require-dev) from lock file\u001b[39m\n",
      "Nothing to install or update\n",
      "\u001b[32mGenerating optimized autoload files\u001b[39m\n",
      "> Illuminate\\Foundation\\ComposerScripts::postAutoloadDump\n",
      "> @php artisan package:discover --ansi\n",
      "Discovered Package: \u001b[32mfacade/ignition\u001b[39m\n",
      "Discovered Package: \u001b[32mfideloper/proxy\u001b[39m\n",
      "Discovered Package: \u001b[32mfruitcake/laravel-cors\u001b[39m\n",
      "Discovered Package: \u001b[32mgraham-campbell/markdown\u001b[39m\n",
      "Discovered Package: \u001b[32mlaravel/breeze\u001b[39m\n",
      "Discovered Package: \u001b[32mlaravel/sail\u001b[39m\n",
      "Discovered Package: \u001b[32mlaravel/tinker\u001b[39m\n",
      "Discovered Package: \u001b[32mnesbot/carbon\u001b[39m\n",
      "Discovered Package: \u001b[32mnunomaduro/collision\u001b[39m\n",
      "\u001b[32mPackage manifest generated successfully.\u001b[39m\n",
      "\u001b[32m79 packages you are using are looking for funding.\u001b[39m\n",
      "\u001b[32mUse the `composer fund` command to find out more!\u001b[39m\n"
     ]
    }
   ],
   "source": [
    "! composer install"
   ]
  },
  {
   "cell_type": "code",
   "execution_count": 83,
   "metadata": {},
   "outputs": [],
   "source": [
    "! cp .env.example .env"
   ]
  },
  {
   "cell_type": "code",
   "execution_count": 84,
   "metadata": {},
   "outputs": [
    {
     "name": "stdout",
     "output_type": "stream",
     "text": [
      "\u001b[32mApplication key set successfully.\u001b[39m\r\n"
     ]
    }
   ],
   "source": [
    "! php artisan key:generate"
   ]
  },
  {
   "cell_type": "code",
   "execution_count": 85,
   "metadata": {},
   "outputs": [
    {
     "name": "stdout",
     "output_type": "stream",
     "text": [
      "\u001b[32mDropped all tables successfully.\u001b[39m\n",
      "\u001b[32mMigration table created successfully.\u001b[39m\n",
      "\u001b[33mMigrating:\u001b[39m 2014_10_12_000000_create_users_table\n",
      "\u001b[32mMigrated:\u001b[39m  2014_10_12_000000_create_users_table (148.21ms)\n",
      "\u001b[33mMigrating:\u001b[39m 2014_10_12_100000_create_password_resets_table\n",
      "\u001b[32mMigrated:\u001b[39m  2014_10_12_100000_create_password_resets_table (161.46ms)\n",
      "\u001b[33mMigrating:\u001b[39m 2019_08_19_000000_create_failed_jobs_table\n",
      "\u001b[32mMigrated:\u001b[39m  2019_08_19_000000_create_failed_jobs_table (175.93ms)\n",
      "\u001b[33mMigrating:\u001b[39m 2020_12_15_145710_create_comments_table\n",
      "\u001b[32mMigrated:\u001b[39m  2020_12_15_145710_create_comments_table (74.69ms)\n",
      "\u001b[33mMigrating:\u001b[39m 2021_01_09_095028_create_pages_table\n",
      "\u001b[32mMigrated:\u001b[39m  2021_01_09_095028_create_pages_table (52.47ms)\n",
      "\u001b[33mMigrating:\u001b[39m 2021_01_09_100010_create_user_page_table\n",
      "\u001b[32mMigrated:\u001b[39m  2021_01_09_100010_create_user_page_table (65.64ms)\n",
      "\u001b[33mMigrating:\u001b[39m 2021_01_11_150433_add_url_to_users\n",
      "\u001b[32mMigrated:\u001b[39m  2021_01_11_150433_add_url_to_users (58.77ms)\n",
      "\u001b[33mMigrating:\u001b[39m 2021_01_11_153310_create_menus_table\n",
      "\u001b[32mMigrated:\u001b[39m  2021_01_11_153310_create_menus_table (47.44ms)\n",
      "\u001b[33mMigrating:\u001b[39m 2021_01_13_115139_create_websites_table\n",
      "\u001b[32mMigrated:\u001b[39m  2021_01_13_115139_create_websites_table (51.12ms)\n",
      "\u001b[33mMigrating:\u001b[39m 2021_01_13_132547_add_page_id_to_menus_table\n",
      "\u001b[32mMigrated:\u001b[39m  2021_01_13_132547_add_page_id_to_menus_table (156.21ms)\n",
      "\u001b[33mMigrating:\u001b[39m 2021_01_13_192136_create_gallery_table\n",
      "\u001b[32mMigrated:\u001b[39m  2021_01_13_192136_create_gallery_table (67.86ms)\n",
      "\u001b[33mMigrating:\u001b[39m 2021_01_14_113503_create_categories_table\n",
      "\u001b[32mMigrated:\u001b[39m  2021_01_14_113503_create_categories_table (155.75ms)\n",
      "\u001b[33mMigrating:\u001b[39m 2021_01_14_113608_create_posts_table\n",
      "\u001b[32mMigrated:\u001b[39m  2021_01_14_113608_create_posts_table (186.01ms)\n",
      "\u001b[33mMigrating:\u001b[39m 2021_01_14_113633_create_category_posts_table\n",
      "\u001b[32mMigrated:\u001b[39m  2021_01_14_113633_create_category_posts_table (383.26ms)\n",
      "\u001b[33mMigrating:\u001b[39m 2021_01_18_131327_create_galleries_table\n",
      "\u001b[32mMigrated:\u001b[39m  2021_01_18_131327_create_galleries_table (91.06ms)\n",
      "\u001b[33mMigrating:\u001b[39m 2021_01_18_131543_add_page_id_to_galleries_table\n",
      "\u001b[32mMigrated:\u001b[39m  2021_01_18_131543_add_page_id_to_galleries_table (247.74ms)\n"
     ]
    }
   ],
   "source": [
    "! php artisan migrate:fresh"
   ]
  },
  {
   "cell_type": "code",
   "execution_count": 86,
   "metadata": {},
   "outputs": [
    {
     "name": "stdout",
     "output_type": "stream",
     "text": [
      "\u001b[33mSeeding:\u001b[39m Database\\Seeders\\UserSeeder\n",
      "\u001b[32mSeeded:\u001b[39m  Database\\Seeders\\UserSeeder (107.88ms)\n",
      "\u001b[32mDatabase seeding completed successfully.\u001b[39m\n"
     ]
    }
   ],
   "source": [
    "! php artisan db:seed"
   ]
  },
  {
   "cell_type": "code",
   "execution_count": 87,
   "metadata": {},
   "outputs": [
    {
     "name": "stdout",
     "output_type": "stream",
     "text": [
      "mysqldump: [Warning] Using a password on the command line interface can be insecure.\r\n"
     ]
    }
   ],
   "source": [
    "! docker exec mysql mysqldump -u root --password=root123 test > tests_codeception/_data/dump.sql"
   ]
  },
  {
   "cell_type": "code",
   "execution_count": 88,
   "metadata": {},
   "outputs": [
    {
     "name": "stdout",
     "output_type": "stream",
     "text": [
      "PHPUnit 9.5.0 by Sebastian Bergmann and contributors.\n",
      "\n",
      ".................                                                 17 / 17 (100%)\n",
      "\n",
      "Time: 00:07.238, Memory: 36.00 MB\n",
      "\n",
      "\u001b[30;42mOK (17 tests, 27 assertions)\u001b[0m\n"
     ]
    }
   ],
   "source": [
    "! vendor/bin/phpunit"
   ]
  },
  {
   "cell_type": "code",
   "execution_count": 89,
   "metadata": {},
   "outputs": [],
   "source": [
    "import subprocess\n",
    "artisanServe = subprocess.Popen(['php', 'artisan', 'serve', '--port', '8888'])"
   ]
  },
  {
   "cell_type": "code",
   "execution_count": 61,
   "metadata": {},
   "outputs": [
    {
     "name": "stdout",
     "output_type": "stream",
     "text": [
      "Codeception PHP Testing Framework v4.1.12\n",
      "Powered by PHPUnit 9.5.0 by Sebastian Bergmann and contributors.\n",
      "Running with seed: \n",
      "\n",
      "\n",
      "\u001b[1mAcceptance Tests (5) \u001b[22m-----------------------------------------------------------\n",
      "\u001b[32;1m✔\u001b[39;22m \u001b[35;1m01_HomepageCept:\u001b[39;22m See homepage \u001b[32m(0.46s)\u001b[39m\n",
      "\u001b[32;1m✔\u001b[39;22m \u001b[35;1m02_CommentsCept:\u001b[39;22m See comments from DB displayed on page \u001b[32m(0.43s)\u001b[39m\n",
      "\u001b[32;1m✔\u001b[39;22m \u001b[35;1m03_LoginCept:\u001b[39;22m Login with existing user \u001b[32m(0.85s)\u001b[39m\n",
      "\u001b[32;1m✔\u001b[39;22m \u001b[35;1m04_PagesCept:\u001b[39;22m Have pages under website \u001b[32m(3.18s)\u001b[39m\n",
      "\u001b[32;1m✔\u001b[39;22m \u001b[35;1m05_PagesMenusCept:\u001b[39;22m Have menus page \u001b[32m(4.53s)\u001b[39m\n",
      "--------------------------------------------------------------------------------\n",
      "\n",
      "\u001b[1mFunctional Tests (0) \u001b[22m-----------------------------------------------------------\n",
      "--------------------------------------------------------------------------------\n",
      "\n",
      "\u001b[1mUnit Tests (0) \u001b[22m-----------------------------------------------------------------\n",
      "--------------------------------------------------------------------------------\n",
      "\n",
      "\n",
      "Time: 00:26.764, Memory: 14.00 MB\n",
      "\n",
      "\u001b[30;42mOK (5 tests, 66 assertions)\u001b[0m\n"
     ]
    }
   ],
   "source": [
    "! vendor/bin/codecept run"
   ]
  },
  {
   "cell_type": "code",
   "execution_count": 13,
   "metadata": {},
   "outputs": [],
   "source": [
    "! killall php php7.4"
   ]
  },
  {
   "cell_type": "code",
   "execution_count": 14,
   "metadata": {},
   "outputs": [
    {
     "name": "stdout",
     "output_type": "stream",
     "text": [
      "/home/student/php_2020_laravel_CMS_w_snake_case/09_laravel_tdd\n"
     ]
    }
   ],
   "source": [
    "%cd .."
   ]
  },
  {
   "cell_type": "markdown",
   "metadata": {},
   "source": [
    "Stop database:"
   ]
  },
  {
   "cell_type": "code",
   "execution_count": 48,
   "metadata": {},
   "outputs": [
    {
     "name": "stdout",
     "output_type": "stream",
     "text": [
      "mysql\r\n"
     ]
    }
   ],
   "source": [
    "! docker container stop mysql"
   ]
  },
  {
   "cell_type": "code",
   "execution_count": 16,
   "metadata": {},
   "outputs": [
    {
     "name": "stdout",
     "output_type": "stream",
     "text": [
      "+--------+-----------+------------------------------------------------+---------------------+-------------------------------------------------------------------------+--------------+\n",
      "|\u001b[32m Domain \u001b[39m|\u001b[32m Method    \u001b[39m|\u001b[32m URI                                            \u001b[39m|\u001b[32m Name                \u001b[39m|\u001b[32m Action                                                                  \u001b[39m|\u001b[32m Middleware   \u001b[39m|\n",
      "+--------+-----------+------------------------------------------------+---------------------+-------------------------------------------------------------------------+--------------+\n",
      "|        | GET|HEAD  | /                                              |                     | Closure                                                                 | web          |\n",
      "\u001b[39;49m|        | GET|HEAD  | api/user                                       |                     | Closure                                                                 | api\u001b[39;49m\u001b[39;49m          |\u001b[39;49m\n",
      "\u001b[39;49m|        |           |                                                |                     |                                                                         | \u001b[39;49mauth:api     |\n",
      "|        | GET|HEAD  | comments                                       | comments.index      | App\\Http\\Controllers\\CommentController@index                            | web          |\n",
      "|        | POST      | comments                                       | comments.store      | App\\Http\\Controllers\\CommentController@store                            | web          |\n",
      "|        | GET|HEAD  | comments/create                                | comments.create     | App\\Http\\Controllers\\CommentController@create                           | web          |\n",
      "|        | GET|HEAD  | comments/{comment}                             | comments.show       | App\\Http\\Controllers\\CommentController@show                             | web          |\n",
      "|        | PUT|PATCH | comments/{comment}                             | comments.update     | App\\Http\\Controllers\\CommentController@update                           | web          |\n",
      "|        | DELETE    | comments/{comment}                             | comments.destroy    | App\\Http\\Controllers\\CommentController@destroy                          | web          |\n",
      "|        | GET|HEAD  | comments/{comment}/edit                        | comments.edit       | App\\Http\\Controllers\\CommentController@edit                             | web          |\n",
      "\u001b[39;49m|        | POST      | confirm-password                               |                     | App\\Http\\Controllers\\Auth\\ConfirmablePasswordController@store           | web\u001b[39;49m\u001b[39;49m          |\u001b[39;49m\n",
      "\u001b[39;49m|        |           |                                                |                     |                                                                         | \u001b[39;49mauth         |\n",
      "\u001b[39;49m|        | GET|HEAD  | confirm-password                               | password.confirm    | App\\Http\\Controllers\\Auth\\ConfirmablePasswordController@show            | web\u001b[39;49m\u001b[39;49m          |\u001b[39;49m\n",
      "\u001b[39;49m|        |           |                                                |                     |                                                                         | \u001b[39;49mauth         |\n",
      "\u001b[39;49m|        | GET|HEAD  | dashboard                                      | dashboard           | Closure                                                                 | web\u001b[39;49m\u001b[39;49m          |\u001b[39;49m\n",
      "\u001b[39;49m|        |           |                                                |                     |                                                                         | \u001b[39;49mauth         |\n",
      "\u001b[39;49m|        | POST      | email/verification-notification                | verification.send   | App\\Http\\Controllers\\Auth\\EmailVerificationNotificationController@store | web\u001b[39;49m\u001b[39;49m          |\u001b[39;49m\n",
      "\u001b[39;49m|        |           |                                                |                     |                                                                         | \u001b[39;49m\u001b[39;49mauth\u001b[39;49m\u001b[39;49m         |\u001b[39;49m\n",
      "\u001b[39;49m|        |           |                                                |                     |                                                                         | \u001b[39;49mthrottle:6,1 |\n",
      "\u001b[39;49m|        | GET|HEAD  | forgot-password                                | password.request    | App\\Http\\Controllers\\Auth\\PasswordResetLinkController@create            | web\u001b[39;49m\u001b[39;49m          |\u001b[39;49m\n",
      "\u001b[39;49m|        |           |                                                |                     |                                                                         | \u001b[39;49mguest        |\n",
      "\u001b[39;49m|        | POST      | forgot-password                                | password.email      | App\\Http\\Controllers\\Auth\\PasswordResetLinkController@store             | web\u001b[39;49m\u001b[39;49m          |\u001b[39;49m\n",
      "\u001b[39;49m|        |           |                                                |                     |                                                                         | \u001b[39;49mguest        |\n",
      "\u001b[39;49m|        | GET|HEAD  | login                                          | login               | App\\Http\\Controllers\\Auth\\AuthenticatedSessionController@create         | web\u001b[39;49m\u001b[39;49m          |\u001b[39;49m\n",
      "\u001b[39;49m|        |           |                                                |                     |                                                                         | \u001b[39;49mguest        |\n",
      "\u001b[39;49m|        | POST      | login                                          |                     | App\\Http\\Controllers\\Auth\\AuthenticatedSessionController@store          | web\u001b[39;49m\u001b[39;49m          |\u001b[39;49m\n",
      "\u001b[39;49m|        |           |                                                |                     |                                                                         | \u001b[39;49mguest        |\n",
      "\u001b[39;49m|        | POST      | logout                                         | logout              | App\\Http\\Controllers\\Auth\\AuthenticatedSessionController@destroy        | web\u001b[39;49m\u001b[39;49m          |\u001b[39;49m\n",
      "\u001b[39;49m|        |           |                                                |                     |                                                                         | \u001b[39;49mauth         |\n",
      "\u001b[39;49m|        | GET|HEAD  | register                                       | register            | App\\Http\\Controllers\\Auth\\RegisteredUserController@create               | web\u001b[39;49m\u001b[39;49m          |\u001b[39;49m\n",
      "\u001b[39;49m|        |           |                                                |                     |                                                                         | \u001b[39;49mguest        |\n",
      "\u001b[39;49m|        | POST      | register                                       |                     | App\\Http\\Controllers\\Auth\\RegisteredUserController@store                | web\u001b[39;49m\u001b[39;49m          |\u001b[39;49m\n",
      "\u001b[39;49m|        |           |                                                |                     |                                                                         | \u001b[39;49mguest        |\n",
      "\u001b[39;49m|        | POST      | reset-password                                 | password.update     | App\\Http\\Controllers\\Auth\\NewPasswordController@store                   | web\u001b[39;49m\u001b[39;49m          |\u001b[39;49m\n",
      "\u001b[39;49m|        |           |                                                |                     |                                                                         | \u001b[39;49mguest        |\n",
      "\u001b[39;49m|        | GET|HEAD  | reset-password/{token}                         | password.reset      | App\\Http\\Controllers\\Auth\\NewPasswordController@create                  | web\u001b[39;49m\u001b[39;49m          |\u001b[39;49m\n",
      "\u001b[39;49m|        |           |                                                |                     |                                                                         | \u001b[39;49mguest        |\n",
      "\u001b[39;49m|        | GET|HEAD  | verify-email                                   | verification.notice | App\\Http\\Controllers\\Auth\\EmailVerificationPromptController@__invoke    | web\u001b[39;49m\u001b[39;49m          |\u001b[39;49m\n",
      "\u001b[39;49m|        |           |                                                |                     |                                                                         | \u001b[39;49mauth         |\n",
      "\u001b[39;49m|        | GET|HEAD  | verify-email/{id}/{hash}                       | verification.verify | App\\Http\\Controllers\\Auth\\VerifyEmailController@__invoke                | web\u001b[39;49m\u001b[39;49m          |\u001b[39;49m\n",
      "\u001b[39;49m|        |           |                                                |                     |                                                                         | \u001b[39;49m\u001b[39;49mauth\u001b[39;49m\u001b[39;49m         |\u001b[39;49m\n",
      "\u001b[39;49m|        |           |                                                |                     |                                                                         | \u001b[39;49m\u001b[39;49msigned\u001b[39;49m\u001b[39;49m       |\u001b[39;49m\n",
      "\u001b[39;49m|        |           |                                                |                     |                                                                         | \u001b[39;49mthrottle:6,1 |\n",
      "|        | GET|HEAD  | {url}.com                                      | index               | App\\Http\\Controllers\\WebsiteController@index                            | web          |\n",
      "|        | GET|HEAD  | {url}.com/admin                                |                     | App\\Http\\Controllers\\PageController@index                               | web          |\n",
      "|        | POST      | {url}.com/admin/gallery                        |                     | App\\Http\\Controllers\\GalleryController@upload                           | web          |\n",
      "|        | GET|HEAD  | {url}.com/admin/gallery                        | index               | App\\Http\\Controllers\\GalleryController@index                            | web          |\n",
      "|        | DELETE    | {url}.com/admin/gallery/{id}                   |                     | App\\Http\\Controllers\\GalleryController@destroy                          | web          |\n",
      "|        | POST      | {url}.com/admin/pages                          | pages.store         | App\\Http\\Controllers\\PageController@store                               | web          |\n",
      "|        | GET|HEAD  | {url}.com/admin/pages                          | pages.index         | App\\Http\\Controllers\\PageController@index                               | web          |\n",
      "|        | GET|HEAD  | {url}.com/admin/pages/create                   | pages.create        | App\\Http\\Controllers\\PageController@create                              | web          |\n",
      "|        | PUT|PATCH | {url}.com/admin/pages/{page}                   | pages.update        | App\\Http\\Controllers\\PageController@update                              | web          |\n",
      "|        | DELETE    | {url}.com/admin/pages/{page}                   | pages.destroy       | App\\Http\\Controllers\\PageController@destroy                             | web          |\n",
      "|        | GET|HEAD  | {url}.com/admin/pages/{page}                   | pages.show          | App\\Http\\Controllers\\PageController@show                                | web          |\n",
      "|        | GET|HEAD  | {url}.com/admin/pages/{page}/edit              | pages.edit          | App\\Http\\Controllers\\PageController@edit                                | web          |\n",
      "|        | GET|HEAD  | {url}.com/admin/pages/{page}/menus             | pages.menus.index   | App\\Http\\Controllers\\PageMenuController@index                           | web          |\n",
      "|        | POST      | {url}.com/admin/pages/{page}/menus             | pages.menus.store   | App\\Http\\Controllers\\PageMenuController@store                           | web          |\n",
      "|        | GET|HEAD  | {url}.com/admin/pages/{page}/menus/create      | pages.menus.create  | App\\Http\\Controllers\\PageMenuController@create                          | web          |\n",
      "|        | GET|HEAD  | {url}.com/admin/pages/{page}/menus/{menu}      | pages.menus.show    | App\\Http\\Controllers\\PageMenuController@show                            | web          |\n",
      "|        | PUT|PATCH | {url}.com/admin/pages/{page}/menus/{menu}      | pages.menus.update  | App\\Http\\Controllers\\PageMenuController@update                          | web          |\n",
      "|        | DELETE    | {url}.com/admin/pages/{page}/menus/{menu}      | pages.menus.destroy | App\\Http\\Controllers\\PageMenuController@destroy                         | web          |\n",
      "|        | GET|HEAD  | {url}.com/admin/pages/{page}/menus/{menu}/edit | pages.menus.edit    | App\\Http\\Controllers\\PageMenuController@edit                            | web          |\n"
     ]
    },
    {
     "name": "stdout",
     "output_type": "stream",
     "text": [
      "|        | GET|HEAD  | {url}.com/gallery                              |                     | App\\Http\\Controllers\\FinalGalleryController@index                       | web          |\r\n",
      "+--------+-----------+------------------------------------------------+---------------------+-------------------------------------------------------------------------+--------------+\r\n"
     ]
    }
   ],
   "source": [
    "! php artisan route:list"
   ]
  },
  {
   "cell_type": "code",
   "execution_count": 14,
   "metadata": {},
   "outputs": [
    {
     "name": "stdout",
     "output_type": "stream",
     "text": [
      "\u001b[32mController created successfully.\u001b[39m\r\n"
     ]
    }
   ],
   "source": [
    "! php artisan make:controller PageGallery"
   ]
  },
  {
   "cell_type": "code",
   "execution_count": 74,
   "metadata": {},
   "outputs": [
    {
     "name": "stdout",
     "output_type": "stream",
     "text": [
      "\u001b[32mCreated Migration:\u001b[39m 2021_01_18_131543_add_page_id_to_galleries_table\r\n"
     ]
    }
   ],
   "source": [
    "! php artisan make:migration add_page_id_to_galleries_table"
   ]
  },
  {
   "cell_type": "code",
   "execution_count": 67,
   "metadata": {},
   "outputs": [
    {
     "name": "stdout",
     "output_type": "stream",
     "text": [
      "\u001b[32mCreated Migration:\u001b[39m 2021_01_18_131327_create_galleries_table\r\n"
     ]
    }
   ],
   "source": [
    "! php artisan make:migration create_galleries_table"
   ]
  },
  {
   "cell_type": "code",
   "execution_count": 82,
   "metadata": {},
   "outputs": [
    {
     "name": "stdout",
     "output_type": "stream",
     "text": [
      "\u001b[32mModel created successfully.\u001b[39m\r\n"
     ]
    }
   ],
   "source": [
    "! php artisan make:model Galleries"
   ]
  },
  {
   "cell_type": "code",
   "execution_count": 90,
   "metadata": {},
   "outputs": [
    {
     "name": "stdout",
     "output_type": "stream",
     "text": [
      "\u001b[32mController created successfully.\u001b[39m\r\n"
     ]
    }
   ],
   "source": [
    "! php artisan make:controller GalleriesController"
   ]
  },
  {
   "cell_type": "code",
   "execution_count": null,
   "metadata": {},
   "outputs": [],
   "source": []
  }
 ],
 "metadata": {
  "kernelspec": {
   "display_name": "Python 3",
   "language": "python",
   "name": "python3"
  },
  "language_info": {
   "codemirror_mode": {
    "name": "ipython",
    "version": 3
   },
   "file_extension": ".py",
   "mimetype": "text/x-python",
   "name": "python",
   "nbconvert_exporter": "python",
   "pygments_lexer": "ipython3",
   "version": "3.8.3"
  }
 },
 "nbformat": 4,
 "nbformat_minor": 4
}
