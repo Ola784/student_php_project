{
 "cells": [
  {
   "cell_type": "markdown",
   "metadata": {},
   "source": [
    "# PHP 2020"
   ]
  },
  {
   "cell_type": "markdown",
   "metadata": {},
   "source": [
    "## 9. Laravel TDD"
   ]
  },
  {
   "cell_type": "markdown",
   "metadata": {},
   "source": [
    "Tasks:\n",
    "\n",
    "- Fix failing tests by implementing missing functionality using Laravel\n",
    "- Do not modify tests or scripts\n",
    "- Remember to regenerate database dump after database migrations or seeding"
   ]
  },
  {
   "cell_type": "markdown",
   "metadata": {},
   "source": [
    "Resources:\n",
    "\n",
    "- [Authentication](https://laravel.com/docs/8.x/authentication)\n",
    "- [Starter Kits / Laravel Breeze](https://laravel.com/docs/8.x/starter-kits)\n",
    "- [Blade Templates](https://laravel.com/docs/8.x/blade)\n",
    "- [Tailwind CSS](https://tailwindcss.com/)\n",
    "- [graham-campbell/markdown](https://packagist.org/packages/graham-campbell/markdown)"
   ]
  },
  {
   "cell_type": "markdown",
   "metadata": {},
   "source": [
    "Start database:"
   ]
  },
  {
   "cell_type": "code",
   "execution_count": 1,
   "metadata": {},
   "outputs": [
    {
     "name": "stdout",
     "output_type": "stream",
     "text": [
      "b0901230c826e19d35eabd61a75adc671b93941331b0a0d6b0d83f65293b43e5\r\n"
     ]
    }
   ],
   "source": [
    "! docker run --name=mysql --net=host --rm --env MYSQL_ROOT_PASSWORD=root123 --env MYSQL_DATABASE=test --env MYSQL_USER=test --env MYSQL_PASSWORD=test123 -d mysql/mysql-server:8.0"
   ]
  },
  {
   "cell_type": "code",
   "execution_count": 2,
   "metadata": {},
   "outputs": [
    {
     "name": "stdout",
     "output_type": "stream",
     "text": [
      "Done.\r\n"
     ]
    }
   ],
   "source": [
    "! while ! timeout 1 bash -c \"echo > /dev/tcp/localhost/3306\" 2> /dev/null; do sleep 1; done; echo \"Done.\";"
   ]
  },
  {
   "cell_type": "markdown",
   "metadata": {},
   "source": [
    "Edit the code:"
   ]
  },
  {
   "cell_type": "code",
   "execution_count": null,
   "metadata": {},
   "outputs": [
    {
     "name": "stdout",
     "output_type": "stream",
     "text": [
      "OpenJDK 64-Bit Server VM warning: Option UseConcMarkSweepGC was deprecated in version 9.0 and will likely be removed in a future release.\n",
      "2021-01-12 13:50:26,414 [  10156]   WARN - Container.ComponentManagerImpl - Do not use constructor injection (requestorClass=org.jetbrains.plugins.phpstorm.PhpStormInitialConfigurator) \n",
      "2021-01-12 13:50:55,221 [  38963]   WARN - pl.local.NativeFileWatcherImpl - Watcher terminated with exit code 3 \n",
      "2021-01-12 13:50:55,500 [  39242]   WARN - pl.local.NativeFileWatcherImpl - Watcher terminated with exit code 3 \n",
      "2021-01-12 13:50:55,767 [  39509]   WARN - pl.local.NativeFileWatcherImpl - Watcher terminated with exit code 3 \n",
      "2021-01-12 13:50:56,046 [  39788]   WARN - pl.local.NativeFileWatcherImpl - Watcher terminated with exit code 3 \n",
      "2021-01-12 13:50:56,358 [  40100]   WARN - pl.local.NativeFileWatcherImpl - Watcher terminated with exit code 3 \n",
      "2021-01-12 13:50:56,669 [  40411]   WARN - pl.local.NativeFileWatcherImpl - Watcher terminated with exit code 3 \n",
      "2021-01-12 13:50:56,894 [  40636]   WARN - com.intellij.util.xmlb.Binding - no accessors for com.jetbrains.php.testFramework.PhpTestFrameworkType \n",
      "2021-01-12 13:50:56,918 [  40660]   WARN - pl.local.NativeFileWatcherImpl - Watcher terminated with exit code 3 \n",
      "2021-01-12 13:50:57,226 [  40968]   WARN - pl.local.NativeFileWatcherImpl - Watcher terminated with exit code 3 \n",
      "2021-01-12 13:50:57,460 [  41202]   WARN - pl.local.NativeFileWatcherImpl - Watcher terminated with exit code 3 \n",
      "2021-01-12 13:50:57,618 [  41360]   WARN - pl.local.NativeFileWatcherImpl - Watcher terminated with exit code 3 \n",
      "2021-01-12 13:50:57,618 [  41360]   WARN - api.vfs.impl.local.FileWatcher - File watcher failed to start \n",
      "2021-01-12 13:50:59,174 [  42916]   WARN - .diagnostic.PerformanceWatcher - UI was frozen for 5092ms, details saved to /home/student/.cache/JetBrains/PhpStorm2020.2/log/threadDumps-freeze-20210112-135059-PS-202.6948.87-LoggingProviderImpl_JULWrapper.isLoggable-5sec \n",
      "2021-01-12 13:51:26,023 [  69765]   WARN - .diagnostic.PerformanceWatcher - UI was frozen for 5407ms, details saved to /home/student/.cache/JetBrains/PhpStorm2020.2/log/threadDumps-freeze-20210112-135125-PS-202.6948.87-Unsafe.park-5sec \n",
      "2021-01-12 13:52:16,087 [ 119829]   WARN - .diagnostic.PerformanceWatcher - UI was frozen for 5504ms, details saved to /home/student/.cache/JetBrains/PhpStorm2020.2/log/threadDumps-freeze-20210112-135215-PS-202.6948.87-RandomAccessFile.readBytes-5sec \n"
     ]
    }
   ],
   "source": [
    "! phpstorm project"
   ]
  },
  {
   "cell_type": "markdown",
   "metadata": {},
   "source": [
    "You can test your solution using included tests:"
   ]
  },
  {
   "cell_type": "code",
   "execution_count": 3,
   "metadata": {},
   "outputs": [
    {
     "name": "stdout",
     "output_type": "stream",
     "text": [
      "/home/student/php_2020_laravel_CMS_w_snake_case/09_laravel_tdd/project\n"
     ]
    }
   ],
   "source": [
    "%cd project"
   ]
  },
  {
   "cell_type": "code",
   "execution_count": 4,
   "metadata": {},
   "outputs": [
    {
     "name": "stdout",
     "output_type": "stream",
     "text": [
      "\u001b[32mLoading composer repositories with package information\u001b[39m\n",
      "\u001b[32mInstalling dependencies (including require-dev) from lock file\u001b[39m\n",
      "Nothing to install or update\n",
      "\u001b[32mGenerating optimized autoload files\u001b[39m\n",
      "> Illuminate\\Foundation\\ComposerScripts::postAutoloadDump\n",
      "> @php artisan package:discover --ansi\n",
      "Discovered Package: \u001b[32mfacade/ignition\u001b[39m\n",
      "Discovered Package: \u001b[32mfideloper/proxy\u001b[39m\n",
      "Discovered Package: \u001b[32mfruitcake/laravel-cors\u001b[39m\n",
      "Discovered Package: \u001b[32mgraham-campbell/markdown\u001b[39m\n",
      "Discovered Package: \u001b[32mlaravel/breeze\u001b[39m\n",
      "Discovered Package: \u001b[32mlaravel/sail\u001b[39m\n",
      "Discovered Package: \u001b[32mlaravel/tinker\u001b[39m\n",
      "Discovered Package: \u001b[32mnesbot/carbon\u001b[39m\n",
      "Discovered Package: \u001b[32mnunomaduro/collision\u001b[39m\n",
      "\u001b[32mPackage manifest generated successfully.\u001b[39m\n",
      "\u001b[32m79 packages you are using are looking for funding.\u001b[39m\n",
      "\u001b[32mUse the `composer fund` command to find out more!\u001b[39m\n"
     ]
    }
   ],
   "source": [
    "! composer install"
   ]
  },
  {
   "cell_type": "code",
   "execution_count": 5,
   "metadata": {},
   "outputs": [],
   "source": [
    "! cp .env.example .env"
   ]
  },
  {
   "cell_type": "code",
   "execution_count": 6,
   "metadata": {},
   "outputs": [
    {
     "name": "stdout",
     "output_type": "stream",
     "text": [
      "\u001b[32mApplication key set successfully.\u001b[39m\r\n"
     ]
    }
   ],
   "source": [
    "! php artisan key:generate"
   ]
  },
  {
   "cell_type": "code",
   "execution_count": 7,
   "metadata": {},
   "outputs": [
    {
     "name": "stdout",
     "output_type": "stream",
     "text": [
      "\u001b[32mDropped all tables successfully.\u001b[39m\n",
      "\u001b[32mMigration table created successfully.\u001b[39m\n",
      "\u001b[33mMigrating:\u001b[39m 2014_10_12_000000_create_users_table\n",
      "\u001b[32mMigrated:\u001b[39m  2014_10_12_000000_create_users_table (114.01ms)\n",
      "\u001b[33mMigrating:\u001b[39m 2014_10_12_100000_create_password_resets_table\n",
      "\u001b[32mMigrated:\u001b[39m  2014_10_12_100000_create_password_resets_table (195.70ms)\n",
      "\u001b[33mMigrating:\u001b[39m 2019_08_19_000000_create_failed_jobs_table\n",
      "\u001b[32mMigrated:\u001b[39m  2019_08_19_000000_create_failed_jobs_table (106.99ms)\n",
      "\u001b[33mMigrating:\u001b[39m 2020_12_15_145710_create_comments_table\n",
      "\u001b[32mMigrated:\u001b[39m  2020_12_15_145710_create_comments_table (65.10ms)\n",
      "\u001b[33mMigrating:\u001b[39m 2021_01_09_095028_create_pages_table\n",
      "\u001b[32mMigrated:\u001b[39m  2021_01_09_095028_create_pages_table (41.22ms)\n",
      "\u001b[33mMigrating:\u001b[39m 2021_01_09_100010_create_user_page_table\n",
      "\u001b[32mMigrated:\u001b[39m  2021_01_09_100010_create_user_page_table (46.58ms)\n",
      "\u001b[33mMigrating:\u001b[39m 2021_01_11_150433_add_url_to_users\n",
      "\u001b[32mMigrated:\u001b[39m  2021_01_11_150433_add_url_to_users (53.09ms)\n",
      "\u001b[33mMigrating:\u001b[39m 2021_01_11_153310_create_menus_table\n",
      "\u001b[32mMigrated:\u001b[39m  2021_01_11_153310_create_menus_table (75.51ms)\n"
     ]
    }
   ],
   "source": [
    "! php artisan migrate:fresh"
   ]
  },
  {
   "cell_type": "code",
   "execution_count": 8,
   "metadata": {},
   "outputs": [
    {
     "name": "stdout",
     "output_type": "stream",
     "text": [
      "\u001b[33mSeeding:\u001b[39m Database\\Seeders\\UserSeeder\n",
      "\u001b[32mSeeded:\u001b[39m  Database\\Seeders\\UserSeeder (139.90ms)\n",
      "\u001b[32mDatabase seeding completed successfully.\u001b[39m\n"
     ]
    }
   ],
   "source": [
    "! php artisan db:seed"
   ]
  },
  {
   "cell_type": "code",
   "execution_count": 9,
   "metadata": {},
   "outputs": [
    {
     "name": "stdout",
     "output_type": "stream",
     "text": [
      "mysqldump: [Warning] Using a password on the command line interface can be insecure.\r\n"
     ]
    }
   ],
   "source": [
    "! docker exec mysql mysqldump -u root --password=root123 test > tests_codeception/_data/dump.sql"
   ]
  },
  {
   "cell_type": "code",
   "execution_count": 10,
   "metadata": {},
   "outputs": [
    {
     "name": "stdout",
     "output_type": "stream",
     "text": [
      "PHPUnit 9.5.0 by Sebastian Bergmann and contributors.\n",
      "\n",
      ".................                                                 17 / 17 (100%)\n",
      "\n",
      "Time: 00:03.411, Memory: 36.00 MB\n",
      "\n",
      "\u001b[30;42mOK (17 tests, 27 assertions)\u001b[0m\n"
     ]
    }
   ],
   "source": [
    "! vendor/bin/phpunit"
   ]
  },
  {
   "cell_type": "code",
   "execution_count": 11,
   "metadata": {},
   "outputs": [],
   "source": [
    "import subprocess\n",
    "artisanServe = subprocess.Popen(['php', 'artisan', 'serve', '--port', '8888'])"
   ]
  },
  {
   "cell_type": "code",
   "execution_count": 12,
   "metadata": {},
   "outputs": [
    {
     "name": "stdout",
     "output_type": "stream",
     "text": [
      "Codeception PHP Testing Framework v4.1.12\n",
      "Powered by PHPUnit 9.5.0 by Sebastian Bergmann and contributors.\n",
      "Running with seed: \n",
      "\n",
      "\n",
      "\u001b[1mAcceptance Tests (4) \u001b[22m-----------------------------------------------------------\n",
      "\u001b[32;1m✔\u001b[39;22m \u001b[35;1m01_HomepageCept:\u001b[39;22m See homepage \u001b[32m(0.39s)\u001b[39m\n",
      "\u001b[32;1m✔\u001b[39;22m \u001b[35;1m02_CommentsCept:\u001b[39;22m See comments from DB displayed on page \u001b[32m(0.32s)\u001b[39m\n",
      "\u001b[32;1m✔\u001b[39;22m \u001b[35;1m03_LoginCept:\u001b[39;22m Login with existing user \u001b[32m(0.59s)\u001b[39m\n",
      "\u001b[32;1m✔\u001b[39;22m \u001b[35;1m04_MenusCept:\u001b[39;22m Have menus page \u001b[32m(2.25s)\u001b[39m\n",
      "--------------------------------------------------------------------------------\n",
      "\n",
      "\u001b[1mFunctional Tests (0) \u001b[22m-----------------------------------------------------------\n",
      "--------------------------------------------------------------------------------\n",
      "\n",
      "\u001b[1mUnit Tests (0) \u001b[22m-----------------------------------------------------------------\n",
      "--------------------------------------------------------------------------------\n",
      "\n",
      "\n",
      "Time: 00:08.425, Memory: 14.00 MB\n",
      "\n",
      "\u001b[30;42mOK (4 tests, 36 assertions)\u001b[0m\n"
     ]
    }
   ],
   "source": [
    "! vendor/bin/codecept run"
   ]
  },
  {
   "cell_type": "code",
   "execution_count": 13,
   "metadata": {},
   "outputs": [],
   "source": [
    "! killall php php7.4"
   ]
  },
  {
   "cell_type": "code",
   "execution_count": 14,
   "metadata": {},
   "outputs": [
    {
     "name": "stdout",
     "output_type": "stream",
     "text": [
      "/home/student/php_2020_laravel_CMS_w_snake_case/09_laravel_tdd\n"
     ]
    }
   ],
   "source": [
    "%cd .."
   ]
  },
  {
   "cell_type": "markdown",
   "metadata": {},
   "source": [
    "Stop database:"
   ]
  },
  {
   "cell_type": "code",
   "execution_count": 3,
   "metadata": {},
   "outputs": [
    {
     "name": "stdout",
     "output_type": "stream",
     "text": [
      "mysql\r\n"
     ]
    }
   ],
   "source": [
    "! docker container stop mysql"
   ]
  },
  {
   "cell_type": "code",
   "execution_count": null,
   "metadata": {},
   "outputs": [],
   "source": []
  }
 ],
 "metadata": {
  "kernelspec": {
   "display_name": "Python 3",
   "language": "python",
   "name": "python3"
  },
  "language_info": {
   "codemirror_mode": {
    "name": "ipython",
    "version": 3
   },
   "file_extension": ".py",
   "mimetype": "text/x-python",
   "name": "python",
   "nbconvert_exporter": "python",
   "pygments_lexer": "ipython3",
   "version": "3.8.3"
  }
 },
 "nbformat": 4,
 "nbformat_minor": 4
}
