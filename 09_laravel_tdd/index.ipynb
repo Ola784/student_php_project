{
 "cells": [
  {
   "cell_type": "markdown",
   "metadata": {},
   "source": [
    "# PHP 2020"
   ]
  },
  {
   "cell_type": "markdown",
   "metadata": {},
   "source": [
    "## 9. Laravel TDD"
   ]
  },
  {
   "cell_type": "markdown",
   "metadata": {},
   "source": [
    "Tasks:\n",
    "\n",
    "- Fix failing tests by implementing missing functionality using Laravel\n",
    "- Do not modify tests or scripts\n",
    "- Remember to regenerate database dump after database migrations or seeding"
   ]
  },
  {
   "cell_type": "markdown",
   "metadata": {},
   "source": [
    "Resources:\n",
    "\n",
    "- [Authentication](https://laravel.com/docs/8.x/authentication)\n",
    "- [Starter Kits / Laravel Breeze](https://laravel.com/docs/8.x/starter-kits)\n",
    "- [Blade Templates](https://laravel.com/docs/8.x/blade)\n",
    "- [Tailwind CSS](https://tailwindcss.com/)\n",
    "- [graham-campbell/markdown](https://packagist.org/packages/graham-campbell/markdown)"
   ]
  },
  {
   "cell_type": "markdown",
   "metadata": {},
   "source": [
    "Start database:"
   ]
  },
  {
   "cell_type": "code",
   "execution_count": 1,
   "metadata": {},
   "outputs": [
    {
     "name": "stdout",
     "output_type": "stream",
     "text": [
      "docker: Error response from daemon: Conflict. The container name \"/mysql\" is already in use by container \"fa2ec350995fc23f162a6ba409fbb5ecb7822feb54a075ae4e2773fa126dd21a\". You have to remove (or rename) that container to be able to reuse that name.\r\n",
      "See 'docker run --help'.\r\n"
     ]
    }
   ],
   "source": [
    "! docker run --name=mysql --net=host --rm --env MYSQL_ROOT_PASSWORD=root123 --env MYSQL_DATABASE=test --env MYSQL_USER=test --env MYSQL_PASSWORD=test123 -d mysql/mysql-server:8.0"
   ]
  },
  {
   "cell_type": "code",
   "execution_count": 2,
   "metadata": {},
   "outputs": [
    {
     "name": "stdout",
     "output_type": "stream",
     "text": [
      "Done.\r\n"
     ]
    }
   ],
   "source": [
    "! while ! timeout 1 bash -c \"echo > /dev/tcp/localhost/3306\" 2> /dev/null; do sleep 1; done; echo \"Done.\";"
   ]
  },
  {
   "cell_type": "markdown",
   "metadata": {},
   "source": [
    "Edit the code:"
   ]
  },
  {
   "cell_type": "code",
   "execution_count": null,
   "metadata": {},
   "outputs": [
    {
     "name": "stdout",
     "output_type": "stream",
     "text": [
      "OpenJDK 64-Bit Server VM warning: Option UseConcMarkSweepGC was deprecated in version 9.0 and will likely be removed in a future release.\n",
      "2021-01-23 20:36:20,999 [   6770]   WARN - Container.ComponentManagerImpl - Do not use constructor injection (requestorClass=org.jetbrains.plugins.phpstorm.PhpStormInitialConfigurator) \n",
      "2021-01-23 20:38:05,027 [ 110798]   WARN - com.intellij.util.xmlb.Binding - no accessors for com.jetbrains.php.testFramework.PhpTestFrameworkType \n",
      "2021-01-23 20:38:08,130 [ 113901]   WARN - pl.local.NativeFileWatcherImpl - Watcher terminated with exit code 3 \n",
      "2021-01-23 20:38:08,169 [ 113940]   WARN - .diagnostic.PerformanceWatcher - UI was frozen for 6696ms, details saved to /home/student/.cache/JetBrains/PhpStorm2020.2/log/threadDumps-freeze-20210123-203806-PS-202.6948.87-RandomAccessFile.readBytes-6sec \n",
      "2021-01-23 20:38:08,222 [ 113993]   WARN - pl.local.NativeFileWatcherImpl - Watcher terminated with exit code 3 \n",
      "2021-01-23 20:38:08,329 [ 114100]   WARN - pl.local.NativeFileWatcherImpl - Watcher terminated with exit code 3 \n",
      "2021-01-23 20:38:08,429 [ 114200]   WARN - pl.local.NativeFileWatcherImpl - Watcher terminated with exit code 3 \n",
      "2021-01-23 20:38:08,541 [ 114312]   WARN - pl.local.NativeFileWatcherImpl - Watcher terminated with exit code 3 \n",
      "2021-01-23 20:38:08,642 [ 114413]   WARN - pl.local.NativeFileWatcherImpl - Watcher terminated with exit code 3 \n",
      "2021-01-23 20:38:08,757 [ 114528]   WARN - pl.local.NativeFileWatcherImpl - Watcher terminated with exit code 3 \n",
      "2021-01-23 20:38:08,857 [ 114628]   WARN - pl.local.NativeFileWatcherImpl - Watcher terminated with exit code 3 \n",
      "2021-01-23 20:38:08,970 [ 114741]   WARN - pl.local.NativeFileWatcherImpl - Watcher terminated with exit code 3 \n",
      "2021-01-23 20:38:09,074 [ 114845]   WARN - pl.local.NativeFileWatcherImpl - Watcher terminated with exit code 3 \n",
      "2021-01-23 20:38:09,074 [ 114845]   WARN - api.vfs.impl.local.FileWatcher - File watcher failed to start \n"
     ]
    }
   ],
   "source": [
    "! phpstorm project"
   ]
  },
  {
   "cell_type": "markdown",
   "metadata": {},
   "source": [
    "You can test your solution using included tests:"
   ]
  },
  {
   "cell_type": "code",
   "execution_count": null,
   "metadata": {},
   "outputs": [],
   "source": [
    "%cd .."
   ]
  },
  {
   "cell_type": "code",
   "execution_count": 3,
   "metadata": {},
   "outputs": [
    {
     "name": "stdout",
     "output_type": "stream",
     "text": [
      "/home/student/php_2020_laravel_cms_w_snake_case/09_laravel_tdd/project\n"
     ]
    }
   ],
   "source": [
    "%cd project"
   ]
  },
  {
   "cell_type": "code",
   "execution_count": 4,
   "metadata": {},
   "outputs": [
    {
     "name": "stdout",
     "output_type": "stream",
     "text": [
      "\u001b[32mLoading composer repositories with package information\u001b[39m\n",
      "\u001b[32mInstalling dependencies (including require-dev) from lock file\u001b[39m\n",
      "Nothing to install or update\n",
      "\u001b[32mGenerating optimized autoload files\u001b[39m\n",
      "\u001b[30;43mDeprecation Notice: Class App\\Http\\Requests\\Post\\StoreArticleRequest located in ./app/Http/Requests/Post/StorePostRequest.php does not comply with psr-4 autoloading standard. It will not autoload anymore in Composer v2.0. in phar:///usr/local/bin/composer/src/Composer/Autoload/ClassMapGenerator.php:201\u001b[39;49m\n",
      "> Illuminate\\Foundation\\ComposerScripts::postAutoloadDump\n",
      "> @php artisan package:discover --ansi\n",
      "Discovered Package: \u001b[32mfacade/ignition\u001b[39m\n",
      "Discovered Package: \u001b[32mfideloper/proxy\u001b[39m\n",
      "Discovered Package: \u001b[32mfruitcake/laravel-cors\u001b[39m\n",
      "Discovered Package: \u001b[32mgraham-campbell/markdown\u001b[39m\n",
      "Discovered Package: \u001b[32mlaravel/breeze\u001b[39m\n",
      "Discovered Package: \u001b[32mlaravel/sail\u001b[39m\n",
      "Discovered Package: \u001b[32mlaravel/tinker\u001b[39m\n",
      "Discovered Package: \u001b[32mnesbot/carbon\u001b[39m\n",
      "Discovered Package: \u001b[32mnunomaduro/collision\u001b[39m\n",
      "Discovered Package: \u001b[32mparsedown/laravel\u001b[39m\n",
      "\u001b[32mPackage manifest generated successfully.\u001b[39m\n",
      "\u001b[32m79 packages you are using are looking for funding.\u001b[39m\n",
      "\u001b[32mUse the `composer fund` command to find out more!\u001b[39m\n"
     ]
    }
   ],
   "source": [
    "! composer install"
   ]
  },
  {
   "cell_type": "code",
   "execution_count": 5,
   "metadata": {},
   "outputs": [],
   "source": [
    "! cp .env.example .env"
   ]
  },
  {
   "cell_type": "code",
   "execution_count": 6,
   "metadata": {},
   "outputs": [
    {
     "name": "stdout",
     "output_type": "stream",
     "text": [
      "\u001b[32mApplication key set successfully.\u001b[39m\r\n"
     ]
    }
   ],
   "source": [
    "! php artisan key:generate"
   ]
  },
  {
   "cell_type": "code",
   "execution_count": 7,
   "metadata": {},
   "outputs": [
    {
     "name": "stdout",
     "output_type": "stream",
     "text": [
      "\u001b[32mDropped all tables successfully.\u001b[39m\n",
      "\u001b[32mMigration table created successfully.\u001b[39m\n",
      "\u001b[33mMigrating:\u001b[39m 2014_10_12_000000_create_users_table\n",
      "\u001b[32mMigrated:\u001b[39m  2014_10_12_000000_create_users_table (86.10ms)\n",
      "\u001b[33mMigrating:\u001b[39m 2014_10_12_100000_create_password_resets_table\n",
      "\u001b[32mMigrated:\u001b[39m  2014_10_12_100000_create_password_resets_table (84.95ms)\n",
      "\u001b[33mMigrating:\u001b[39m 2019_08_19_000000_create_failed_jobs_table\n",
      "\u001b[32mMigrated:\u001b[39m  2019_08_19_000000_create_failed_jobs_table (74.99ms)\n",
      "\u001b[33mMigrating:\u001b[39m 2020_12_15_145710_create_comments_table\n",
      "\u001b[32mMigrated:\u001b[39m  2020_12_15_145710_create_comments_table (37.26ms)\n",
      "\u001b[33mMigrating:\u001b[39m 2021_01_09_095028_create_pages_table\n",
      "\u001b[32mMigrated:\u001b[39m  2021_01_09_095028_create_pages_table (39.89ms)\n",
      "\u001b[33mMigrating:\u001b[39m 2021_01_09_100010_create_user_page_table\n",
      "\u001b[32mMigrated:\u001b[39m  2021_01_09_100010_create_user_page_table (38.57ms)\n",
      "\u001b[33mMigrating:\u001b[39m 2021_01_11_150433_add_url_to_users\n",
      "\u001b[32mMigrated:\u001b[39m  2021_01_11_150433_add_url_to_users (104.83ms)\n",
      "\u001b[33mMigrating:\u001b[39m 2021_01_11_153310_create_menus_table\n",
      "\u001b[32mMigrated:\u001b[39m  2021_01_11_153310_create_menus_table (79.13ms)\n",
      "\u001b[33mMigrating:\u001b[39m 2021_01_13_115139_create_websites_table\n",
      "\u001b[32mMigrated:\u001b[39m  2021_01_13_115139_create_websites_table (344.98ms)\n",
      "\u001b[33mMigrating:\u001b[39m 2021_01_13_132547_add_page_id_to_menus_table\n",
      "\u001b[32mMigrated:\u001b[39m  2021_01_13_132547_add_page_id_to_menus_table (135.34ms)\n",
      "\u001b[33mMigrating:\u001b[39m 2021_01_14_113503_create_categories_table\n",
      "\u001b[32mMigrated:\u001b[39m  2021_01_14_113503_create_categories_table (71.63ms)\n",
      "\u001b[33mMigrating:\u001b[39m 2021_01_14_113608_create_posts_table\n",
      "\u001b[32mMigrated:\u001b[39m  2021_01_14_113608_create_posts_table (47.27ms)\n",
      "\u001b[33mMigrating:\u001b[39m 2021_01_18_131327_create_galleries_table\n",
      "\u001b[32mMigrated:\u001b[39m  2021_01_18_131327_create_galleries_table (41.44ms)\n",
      "\u001b[33mMigrating:\u001b[39m 2021_01_18_131543_add_page_id_to_galleries_table\n",
      "\u001b[32mMigrated:\u001b[39m  2021_01_18_131543_add_page_id_to_galleries_table (119.59ms)\n",
      "\u001b[33mMigrating:\u001b[39m 2021_01_19_201735_create_images_table\n",
      "\u001b[32mMigrated:\u001b[39m  2021_01_19_201735_create_images_table (40.14ms)\n",
      "\u001b[33mMigrating:\u001b[39m 2021_01_19_201802_add_gallery_id_to_images_table\n",
      "\u001b[32mMigrated:\u001b[39m  2021_01_19_201802_add_gallery_id_to_images_table (142.26ms)\n",
      "\u001b[33mMigrating:\u001b[39m 2021_01_20_115021_create_contacts_table\n",
      "\u001b[32mMigrated:\u001b[39m  2021_01_20_115021_create_contacts_table (46.37ms)\n",
      "\u001b[33mMigrating:\u001b[39m 2021_01_20_204353_add_page_id_to_posts\n",
      "\u001b[32mMigrated:\u001b[39m  2021_01_20_204353_add_page_id_to_posts (145.23ms)\n",
      "\u001b[33mMigrating:\u001b[39m 2021_01_21_180926_create_tags_table\n",
      "\u001b[32mMigrated:\u001b[39m  2021_01_21_180926_create_tags_table (49.65ms)\n",
      "\u001b[33mMigrating:\u001b[39m 2021_01_23_120603_create_post_category_table\n",
      "\u001b[32mMigrated:\u001b[39m  2021_01_23_120603_create_post_category_table (258.16ms)\n",
      "\u001b[33mMigrating:\u001b[39m 2021_01_23_121537_create_post_tags_table\n",
      "\u001b[32mMigrated:\u001b[39m  2021_01_23_121537_create_post_tags_table (293.17ms)\n"
     ]
    }
   ],
   "source": [
    "! php artisan migrate:fresh"
   ]
  },
  {
   "cell_type": "code",
   "execution_count": 8,
   "metadata": {
    "scrolled": true
   },
   "outputs": [
    {
     "name": "stdout",
     "output_type": "stream",
     "text": [
      "\u001b[33mSeeding:\u001b[39m Database\\Seeders\\UserSeeder\n",
      "\u001b[32mSeeded:\u001b[39m  Database\\Seeders\\UserSeeder (84.12ms)\n",
      "\u001b[33mSeeding:\u001b[39m Database\\Seeders\\CategoryTableSeeder\n",
      "\u001b[32mSeeded:\u001b[39m  Database\\Seeders\\CategoryTableSeeder (44.92ms)\n",
      "\u001b[32mDatabase seeding completed successfully.\u001b[39m\n"
     ]
    }
   ],
   "source": [
    "! php artisan db:seed"
   ]
  },
  {
   "cell_type": "code",
   "execution_count": 9,
   "metadata": {},
   "outputs": [
    {
     "name": "stdout",
     "output_type": "stream",
     "text": [
      "mysqldump: [Warning] Using a password on the command line interface can be insecure.\r\n"
     ]
    }
   ],
   "source": [
    "! docker exec mysql mysqldump -u root --password=root123 test > tests_codeception/_data/dump.sql"
   ]
  },
  {
   "cell_type": "code",
   "execution_count": 10,
   "metadata": {},
   "outputs": [
    {
     "name": "stdout",
     "output_type": "stream",
     "text": [
      "PHPUnit 9.5.0 by Sebastian Bergmann and contributors.\n",
      "\n",
      ".................                                                 17 / 17 (100%)\n",
      "\n",
      "Time: 00:05.721, Memory: 36.00 MB\n",
      "\n",
      "\u001b[30;42mOK (17 tests, 27 assertions)\u001b[0m\n"
     ]
    }
   ],
   "source": [
    "! vendor/bin/phpunit"
   ]
  },
  {
   "cell_type": "code",
   "execution_count": 11,
   "metadata": {},
   "outputs": [],
   "source": [
    "import subprocess\n",
    "artisanServe = subprocess.Popen(['php', 'artisan', 'serve', '--port', '8888'])"
   ]
  },
  {
   "cell_type": "code",
   "execution_count": null,
   "metadata": {},
   "outputs": [],
   "source": [
    "! vendor/bin/codecept run"
   ]
  },
  {
   "cell_type": "code",
   "execution_count": null,
   "metadata": {},
   "outputs": [],
   "source": [
    "! killall php php7.4"
   ]
  },
  {
   "cell_type": "code",
   "execution_count": null,
   "metadata": {},
   "outputs": [],
   "source": [
    "%cd .."
   ]
  },
  {
   "cell_type": "markdown",
   "metadata": {},
   "source": [
    "Stop database:"
   ]
  },
  {
   "cell_type": "code",
   "execution_count": null,
   "metadata": {},
   "outputs": [],
   "source": [
    "! docker container stop mysql"
   ]
  },
  {
   "cell_type": "code",
   "execution_count": null,
   "metadata": {},
   "outputs": [],
   "source": [
    "! php artisan route:list"
   ]
  },
  {
   "cell_type": "code",
   "execution_count": null,
   "metadata": {},
   "outputs": [],
   "source": [
    "! php artisan make:controller PageGallery"
   ]
  },
  {
   "cell_type": "code",
   "execution_count": null,
   "metadata": {},
   "outputs": [],
   "source": [
    "! php artisan make:migration add_page_id_to_galleries_table"
   ]
  },
  {
   "cell_type": "code",
   "execution_count": null,
   "metadata": {},
   "outputs": [],
   "source": [
    "! php artisan make:migration create_galleries_table"
   ]
  },
  {
   "cell_type": "code",
   "execution_count": null,
   "metadata": {},
   "outputs": [],
   "source": [
    "! php artisan make:model Galleries"
   ]
  },
  {
   "cell_type": "code",
   "execution_count": null,
   "metadata": {},
   "outputs": [],
   "source": [
    "! php artisan make:controller GalleriesController"
   ]
  },
  {
   "cell_type": "code",
   "execution_count": null,
   "metadata": {},
   "outputs": [],
   "source": []
  }
 ],
 "metadata": {
  "kernelspec": {
   "display_name": "Python 3",
   "language": "python",
   "name": "python3"
  },
  "language_info": {
   "codemirror_mode": {
    "name": "ipython",
    "version": 3
   },
   "file_extension": ".py",
   "mimetype": "text/x-python",
   "name": "python",
   "nbconvert_exporter": "python",
   "pygments_lexer": "ipython3",
   "version": "3.8.3"
  }
 },
 "nbformat": 4,
 "nbformat_minor": 4
}
