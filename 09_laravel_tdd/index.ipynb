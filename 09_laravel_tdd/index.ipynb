{
 "cells": [
  {
   "cell_type": "markdown",
   "metadata": {},
   "source": [
    "# PHP 2020"
   ]
  },
  {
   "cell_type": "markdown",
   "metadata": {},
   "source": [
    "## 9. Laravel TDD"
   ]
  },
  {
   "cell_type": "markdown",
   "metadata": {},
   "source": [
    "Tasks:\n",
    "\n",
    "- Fix failing tests by implementing missing functionality using Laravel\n",
    "- Do not modify tests or scripts\n",
    "- Remember to regenerate database dump after database migrations or seeding"
   ]
  },
  {
   "cell_type": "markdown",
   "metadata": {},
   "source": [
    "Resources:\n",
    "\n",
    "- [Authentication](https://laravel.com/docs/8.x/authentication)\n",
    "- [Starter Kits / Laravel Breeze](https://laravel.com/docs/8.x/starter-kits)\n",
    "- [Blade Templates](https://laravel.com/docs/8.x/blade)\n",
    "- [Tailwind CSS](https://tailwindcss.com/)\n",
    "- [graham-campbell/markdown](https://packagist.org/packages/graham-campbell/markdown)"
   ]
  },
  {
   "cell_type": "markdown",
   "metadata": {},
   "source": [
    "Start database:"
   ]
  },
  {
   "cell_type": "code",
   "execution_count": 1,
   "metadata": {},
   "outputs": [
    {
     "name": "stdout",
     "output_type": "stream",
     "text": [
      "894ed35bd9bbbac0154e233fd2a68282f577cd7315cbb08d1cfac84f32123e1b\r\n"
     ]
    }
   ],
   "source": [
    "! docker run --name=mysql --net=host --rm --env MYSQL_ROOT_PASSWORD=root123 --env MYSQL_DATABASE=test --env MYSQL_USER=test --env MYSQL_PASSWORD=test123 -d mysql/mysql-server:8.0"
   ]
  },
  {
   "cell_type": "code",
   "execution_count": 2,
   "metadata": {},
   "outputs": [
    {
     "name": "stdout",
     "output_type": "stream",
     "text": [
      "Done.\r\n"
     ]
    }
   ],
   "source": [
    "! while ! timeout 1 bash -c \"echo > /dev/tcp/localhost/3306\" 2> /dev/null; do sleep 1; done; echo \"Done.\";"
   ]
  },
  {
   "cell_type": "markdown",
   "metadata": {},
   "source": [
    "Edit the code:"
   ]
  },
  {
   "cell_type": "code",
   "execution_count": null,
   "metadata": {},
   "outputs": [
    {
     "name": "stdout",
     "output_type": "stream",
     "text": [
      "OpenJDK 64-Bit Server VM warning: Option UseConcMarkSweepGC was deprecated in version 9.0 and will likely be removed in a future release.\n",
      "2021-01-19 10:03:41,357 [   7609]   WARN - Container.ComponentManagerImpl - Do not use constructor injection (requestorClass=org.jetbrains.plugins.phpstorm.PhpStormInitialConfigurator) \n",
      "2021-01-19 10:04:01,197 [  27449]   WARN - pl.local.NativeFileWatcherImpl - Watcher terminated with exit code 3 \n",
      "2021-01-19 10:04:01,470 [  27722]   WARN - pl.local.NativeFileWatcherImpl - Watcher terminated with exit code 3 \n",
      "2021-01-19 10:04:01,676 [  27928]   WARN - pl.local.NativeFileWatcherImpl - Watcher terminated with exit code 3 \n",
      "2021-01-19 10:04:01,874 [  28126]   WARN - pl.local.NativeFileWatcherImpl - Watcher terminated with exit code 3 \n",
      "2021-01-19 10:04:02,073 [  28325]   WARN - pl.local.NativeFileWatcherImpl - Watcher terminated with exit code 3 \n",
      "2021-01-19 10:04:02,260 [  28512]   WARN - com.intellij.util.xmlb.Binding - no accessors for com.jetbrains.php.testFramework.PhpTestFrameworkType \n",
      "2021-01-19 10:04:02,356 [  28608]   WARN - pl.local.NativeFileWatcherImpl - Watcher terminated with exit code 3 \n",
      "2021-01-19 10:04:02,551 [  28803]   WARN - pl.local.NativeFileWatcherImpl - Watcher terminated with exit code 3 \n",
      "2021-01-19 10:04:02,749 [  29001]   WARN - pl.local.NativeFileWatcherImpl - Watcher terminated with exit code 3 \n",
      "2021-01-19 10:04:02,892 [  29144]   WARN - pl.local.NativeFileWatcherImpl - Watcher terminated with exit code 3 \n",
      "2021-01-19 10:04:03,119 [  29371]   WARN - pl.local.NativeFileWatcherImpl - Watcher terminated with exit code 3 \n",
      "2021-01-19 10:04:03,119 [  29371]   WARN - api.vfs.impl.local.FileWatcher - File watcher failed to start \n",
      "2021-01-19 10:04:35,063 [  61315]   WARN - .AbstractProgressIndicatorBase - This progress indicator is indeterminate, this may lead to visual inconsistency. Please call setIndeterminate(false) before you start progress.\n",
      "com.intellij.openapi.project.DumbServiceImpl$5.delegateProgressChange(DumbServiceImpl.java:554) \n",
      "2021-01-19 10:04:51,141 [  77393]   WARN - .AbstractProgressIndicatorBase - This progress indicator is indeterminate, this may lead to visual inconsistency. Please call setIndeterminate(false) before you start progress.\n",
      "com.intellij.openapi.project.DumbServiceImpl$5.delegateProgressChange(DumbServiceImpl.java:554) \n"
     ]
    }
   ],
   "source": [
    "! phpstorm project"
   ]
  },
  {
   "cell_type": "markdown",
   "metadata": {},
   "source": [
    "You can test your solution using included tests:"
   ]
  },
  {
   "cell_type": "code",
   "execution_count": 10,
   "metadata": {},
   "outputs": [
    {
     "name": "stdout",
     "output_type": "stream",
     "text": [
      "/home/student/php_2020_laravel/php_2020_laravel_cms_w_snake_case/09_laravel_tdd\n"
     ]
    }
   ],
   "source": [
    "%cd .."
   ]
  },
  {
   "cell_type": "code",
   "execution_count": 3,
   "metadata": {},
   "outputs": [
    {
     "name": "stdout",
     "output_type": "stream",
     "text": [
      "/home/student/php_2020_laravel/php_2020_laravel_cms_w_snake_case/09_laravel_tdd/project\n"
     ]
    }
   ],
   "source": [
    "%cd project"
   ]
  },
  {
   "cell_type": "code",
   "execution_count": 4,
   "metadata": {},
   "outputs": [
    {
     "name": "stdout",
     "output_type": "stream",
     "text": [
      "\u001b[32mLoading composer repositories with package information\u001b[39m\n",
      "\u001b[32mInstalling dependencies (including require-dev) from lock file\u001b[39m\n",
      "Nothing to install or update\n",
      "\u001b[32mGenerating optimized autoload files\u001b[39m\n",
      "> Illuminate\\Foundation\\ComposerScripts::postAutoloadDump\n",
      "> @php artisan package:discover --ansi\n",
      "Discovered Package: \u001b[32mfacade/ignition\u001b[39m\n",
      "Discovered Package: \u001b[32mfideloper/proxy\u001b[39m\n",
      "Discovered Package: \u001b[32mfruitcake/laravel-cors\u001b[39m\n",
      "Discovered Package: \u001b[32mgraham-campbell/markdown\u001b[39m\n",
      "Discovered Package: \u001b[32mlaravel/breeze\u001b[39m\n",
      "Discovered Package: \u001b[32mlaravel/sail\u001b[39m\n",
      "Discovered Package: \u001b[32mlaravel/tinker\u001b[39m\n",
      "Discovered Package: \u001b[32mnesbot/carbon\u001b[39m\n",
      "Discovered Package: \u001b[32mnunomaduro/collision\u001b[39m\n",
      "\u001b[32mPackage manifest generated successfully.\u001b[39m\n",
      "\u001b[32m79 packages you are using are looking for funding.\u001b[39m\n",
      "\u001b[32mUse the `composer fund` command to find out more!\u001b[39m\n"
     ]
    }
   ],
   "source": [
    "! composer install"
   ]
  },
  {
   "cell_type": "code",
   "execution_count": 5,
   "metadata": {},
   "outputs": [],
   "source": [
    "! cp .env.example .env"
   ]
  },
  {
   "cell_type": "code",
   "execution_count": 6,
   "metadata": {},
   "outputs": [
    {
     "name": "stdout",
     "output_type": "stream",
     "text": [
      "\u001b[32mApplication key set successfully.\u001b[39m\r\n"
     ]
    }
   ],
   "source": [
    "! php artisan key:generate"
   ]
  },
  {
   "cell_type": "code",
   "execution_count": 7,
   "metadata": {},
   "outputs": [
    {
     "name": "stdout",
     "output_type": "stream",
     "text": [
      "\u001b[32mDropped all tables successfully.\u001b[39m\n",
      "\u001b[32mMigration table created successfully.\u001b[39m\n",
      "\u001b[33mMigrating:\u001b[39m 2014_10_12_000000_create_users_table\n",
      "\u001b[32mMigrated:\u001b[39m  2014_10_12_000000_create_users_table (168.75ms)\n",
      "\u001b[33mMigrating:\u001b[39m 2014_10_12_100000_create_password_resets_table\n",
      "\u001b[32mMigrated:\u001b[39m  2014_10_12_100000_create_password_resets_table (55.59ms)\n",
      "\u001b[33mMigrating:\u001b[39m 2019_08_19_000000_create_failed_jobs_table\n",
      "\u001b[32mMigrated:\u001b[39m  2019_08_19_000000_create_failed_jobs_table (109.88ms)\n",
      "\u001b[33mMigrating:\u001b[39m 2020_12_15_145710_create_comments_table\n",
      "\u001b[32mMigrated:\u001b[39m  2020_12_15_145710_create_comments_table (83.90ms)\n",
      "\u001b[33mMigrating:\u001b[39m 2021_01_09_095028_create_pages_table\n",
      "\u001b[32mMigrated:\u001b[39m  2021_01_09_095028_create_pages_table (59.96ms)\n",
      "\u001b[33mMigrating:\u001b[39m 2021_01_09_100010_create_user_page_table\n",
      "\u001b[32mMigrated:\u001b[39m  2021_01_09_100010_create_user_page_table (40.05ms)\n",
      "\u001b[33mMigrating:\u001b[39m 2021_01_11_150433_add_url_to_users\n",
      "\u001b[32mMigrated:\u001b[39m  2021_01_11_150433_add_url_to_users (64.76ms)\n",
      "\u001b[33mMigrating:\u001b[39m 2021_01_11_153310_create_menus_table\n",
      "\u001b[32mMigrated:\u001b[39m  2021_01_11_153310_create_menus_table (50.60ms)\n",
      "\u001b[33mMigrating:\u001b[39m 2021_01_13_115139_create_websites_table\n",
      "\u001b[32mMigrated:\u001b[39m  2021_01_13_115139_create_websites_table (48.96ms)\n",
      "\u001b[33mMigrating:\u001b[39m 2021_01_13_132547_add_page_id_to_menus_table\n",
      "\u001b[32mMigrated:\u001b[39m  2021_01_13_132547_add_page_id_to_menus_table (110.12ms)\n",
      "\u001b[33mMigrating:\u001b[39m 2021_01_13_192136_create_gallery_table\n",
      "\u001b[32mMigrated:\u001b[39m  2021_01_13_192136_create_gallery_table (47.34ms)\n",
      "\u001b[33mMigrating:\u001b[39m 2021_01_14_113503_create_categories_table\n",
      "\u001b[32mMigrated:\u001b[39m  2021_01_14_113503_create_categories_table (211.25ms)\n",
      "\u001b[33mMigrating:\u001b[39m 2021_01_14_113608_create_posts_table\n",
      "\u001b[32mMigrated:\u001b[39m  2021_01_14_113608_create_posts_table (128.16ms)\n",
      "\u001b[33mMigrating:\u001b[39m 2021_01_14_113633_create_category_posts_table\n",
      "\u001b[32mMigrated:\u001b[39m  2021_01_14_113633_create_category_posts_table (243.16ms)\n",
      "\u001b[33mMigrating:\u001b[39m 2021_01_18_131327_create_galleries_table\n",
      "\u001b[32mMigrated:\u001b[39m  2021_01_18_131327_create_galleries_table (50.26ms)\n",
      "\u001b[33mMigrating:\u001b[39m 2021_01_18_131543_add_page_id_to_galleries_table\n",
      "\u001b[32mMigrated:\u001b[39m  2021_01_18_131543_add_page_id_to_galleries_table (120.04ms)\n"
     ]
    }
   ],
   "source": [
    "! php artisan migrate:fresh"
   ]
  },
  {
   "cell_type": "code",
   "execution_count": 8,
   "metadata": {},
   "outputs": [
    {
     "name": "stdout",
     "output_type": "stream",
     "text": [
      "\u001b[33mSeeding:\u001b[39m Database\\Seeders\\UserSeeder\n",
      "\u001b[32mSeeded:\u001b[39m  Database\\Seeders\\UserSeeder (110.19ms)\n",
      "\u001b[32mDatabase seeding completed successfully.\u001b[39m\n"
     ]
    }
   ],
   "source": [
    "! php artisan db:seed"
   ]
  },
  {
   "cell_type": "code",
   "execution_count": 9,
   "metadata": {},
   "outputs": [
    {
     "name": "stdout",
     "output_type": "stream",
     "text": [
      "mysqldump: [Warning] Using a password on the command line interface can be insecure.\r\n"
     ]
    }
   ],
   "source": [
    "! docker exec mysql mysqldump -u root --password=root123 test > tests_codeception/_data/dump.sql"
   ]
  },
  {
   "cell_type": "code",
   "execution_count": 88,
   "metadata": {},
   "outputs": [
    {
     "name": "stdout",
     "output_type": "stream",
     "text": [
      "PHPUnit 9.5.0 by Sebastian Bergmann and contributors.\n",
      "\n",
      ".................                                                 17 / 17 (100%)\n",
      "\n",
      "Time: 00:07.238, Memory: 36.00 MB\n",
      "\n",
      "\u001b[30;42mOK (17 tests, 27 assertions)\u001b[0m\n"
     ]
    }
   ],
   "source": [
    "! vendor/bin/phpunit"
   ]
  },
  {
   "cell_type": "code",
   "execution_count": 89,
   "metadata": {},
   "outputs": [],
   "source": [
    "import subprocess\n",
    "artisanServe = subprocess.Popen(['php', 'artisan', 'serve', '--port', '8888'])"
   ]
  },
  {
   "cell_type": "code",
   "execution_count": 61,
   "metadata": {},
   "outputs": [
    {
     "name": "stdout",
     "output_type": "stream",
     "text": [
      "Codeception PHP Testing Framework v4.1.12\n",
      "Powered by PHPUnit 9.5.0 by Sebastian Bergmann and contributors.\n",
      "Running with seed: \n",
      "\n",
      "\n",
      "\u001b[1mAcceptance Tests (5) \u001b[22m-----------------------------------------------------------\n",
      "\u001b[32;1m✔\u001b[39;22m \u001b[35;1m01_HomepageCept:\u001b[39;22m See homepage \u001b[32m(0.46s)\u001b[39m\n",
      "\u001b[32;1m✔\u001b[39;22m \u001b[35;1m02_CommentsCept:\u001b[39;22m See comments from DB displayed on page \u001b[32m(0.43s)\u001b[39m\n",
      "\u001b[32;1m✔\u001b[39;22m \u001b[35;1m03_LoginCept:\u001b[39;22m Login with existing user \u001b[32m(0.85s)\u001b[39m\n",
      "\u001b[32;1m✔\u001b[39;22m \u001b[35;1m04_PagesCept:\u001b[39;22m Have pages under website \u001b[32m(3.18s)\u001b[39m\n",
      "\u001b[32;1m✔\u001b[39;22m \u001b[35;1m05_PagesMenusCept:\u001b[39;22m Have menus page \u001b[32m(4.53s)\u001b[39m\n",
      "--------------------------------------------------------------------------------\n",
      "\n",
      "\u001b[1mFunctional Tests (0) \u001b[22m-----------------------------------------------------------\n",
      "--------------------------------------------------------------------------------\n",
      "\n",
      "\u001b[1mUnit Tests (0) \u001b[22m-----------------------------------------------------------------\n",
      "--------------------------------------------------------------------------------\n",
      "\n",
      "\n",
      "Time: 00:26.764, Memory: 14.00 MB\n",
      "\n",
      "\u001b[30;42mOK (5 tests, 66 assertions)\u001b[0m\n"
     ]
    }
   ],
   "source": [
    "! vendor/bin/codecept run"
   ]
  },
  {
   "cell_type": "code",
   "execution_count": 13,
   "metadata": {},
   "outputs": [],
   "source": [
    "! killall php php7.4"
   ]
  },
  {
   "cell_type": "code",
   "execution_count": 14,
   "metadata": {},
   "outputs": [
    {
     "name": "stdout",
     "output_type": "stream",
     "text": [
      "/home/student/php_2020_laravel_CMS_w_snake_case/09_laravel_tdd\n"
     ]
    }
   ],
   "source": [
    "%cd .."
   ]
  },
  {
   "cell_type": "markdown",
   "metadata": {},
   "source": [
    "Stop database:"
   ]
  },
  {
   "cell_type": "code",
   "execution_count": 48,
   "metadata": {},
   "outputs": [
    {
     "name": "stdout",
     "output_type": "stream",
     "text": [
      "mysql\r\n"
     ]
    }
   ],
   "source": [
    "! docker container stop mysql"
   ]
  },
  {
   "cell_type": "code",
   "execution_count": 16,
   "metadata": {},
   "outputs": [
    {
     "name": "stdout",
     "output_type": "stream",
     "text": [
      "+--------+-----------+------------------------------------------------+---------------------+-------------------------------------------------------------------------+--------------+\n",
      "|\u001b[32m Domain \u001b[39m|\u001b[32m Method    \u001b[39m|\u001b[32m URI                                            \u001b[39m|\u001b[32m Name                \u001b[39m|\u001b[32m Action                                                                  \u001b[39m|\u001b[32m Middleware   \u001b[39m|\n",
      "+--------+-----------+------------------------------------------------+---------------------+-------------------------------------------------------------------------+--------------+\n",
      "|        | GET|HEAD  | /                                              |                     | Closure                                                                 | web          |\n",
      "\u001b[39;49m|        | GET|HEAD  | api/user                                       |                     | Closure                                                                 | api\u001b[39;49m\u001b[39;49m          |\u001b[39;49m\n",
      "\u001b[39;49m|        |           |                                                |                     |                                                                         | \u001b[39;49mauth:api     |\n",
      "|        | GET|HEAD  | comments                                       | comments.index      | App\\Http\\Controllers\\CommentController@index                            | web          |\n",
      "|        | POST      | comments                                       | comments.store      | App\\Http\\Controllers\\CommentController@store                            | web          |\n",
      "|        | GET|HEAD  | comments/create                                | comments.create     | App\\Http\\Controllers\\CommentController@create                           | web          |\n",
      "|        | GET|HEAD  | comments/{comment}                             | comments.show       | App\\Http\\Controllers\\CommentController@show                             | web          |\n",
      "|        | PUT|PATCH | comments/{comment}                             | comments.update     | App\\Http\\Controllers\\CommentController@update                           | web          |\n",
      "|        | DELETE    | comments/{comment}                             | comments.destroy    | App\\Http\\Controllers\\CommentController@destroy                          | web          |\n",
      "|        | GET|HEAD  | comments/{comment}/edit                        | comments.edit       | App\\Http\\Controllers\\CommentController@edit                             | web          |\n",
      "\u001b[39;49m|        | POST      | confirm-password                               |                     | App\\Http\\Controllers\\Auth\\ConfirmablePasswordController@store           | web\u001b[39;49m\u001b[39;49m          |\u001b[39;49m\n",
      "\u001b[39;49m|        |           |                                                |                     |                                                                         | \u001b[39;49mauth         |\n",
      "\u001b[39;49m|        | GET|HEAD  | confirm-password                               | password.confirm    | App\\Http\\Controllers\\Auth\\ConfirmablePasswordController@show            | web\u001b[39;49m\u001b[39;49m          |\u001b[39;49m\n",
      "\u001b[39;49m|        |           |                                                |                     |                                                                         | \u001b[39;49mauth         |\n",
      "\u001b[39;49m|        | GET|HEAD  | dashboard                                      | dashboard           | Closure                                                                 | web\u001b[39;49m\u001b[39;49m          |\u001b[39;49m\n",
      "\u001b[39;49m|        |           |                                                |                     |                                                                         | \u001b[39;49mauth         |\n",
      "\u001b[39;49m|        | POST      | email/verification-notification                | verification.send   | App\\Http\\Controllers\\Auth\\EmailVerificationNotificationController@store | web\u001b[39;49m\u001b[39;49m          |\u001b[39;49m\n",
      "\u001b[39;49m|        |           |                                                |                     |                                                                         | \u001b[39;49m\u001b[39;49mauth\u001b[39;49m\u001b[39;49m         |\u001b[39;49m\n",
      "\u001b[39;49m|        |           |                                                |                     |                                                                         | \u001b[39;49mthrottle:6,1 |\n",
      "\u001b[39;49m|        | GET|HEAD  | forgot-password                                | password.request    | App\\Http\\Controllers\\Auth\\PasswordResetLinkController@create            | web\u001b[39;49m\u001b[39;49m          |\u001b[39;49m\n",
      "\u001b[39;49m|        |           |                                                |                     |                                                                         | \u001b[39;49mguest        |\n",
      "\u001b[39;49m|        | POST      | forgot-password                                | password.email      | App\\Http\\Controllers\\Auth\\PasswordResetLinkController@store             | web\u001b[39;49m\u001b[39;49m          |\u001b[39;49m\n",
      "\u001b[39;49m|        |           |                                                |                     |                                                                         | \u001b[39;49mguest        |\n",
      "\u001b[39;49m|        | GET|HEAD  | login                                          | login               | App\\Http\\Controllers\\Auth\\AuthenticatedSessionController@create         | web\u001b[39;49m\u001b[39;49m          |\u001b[39;49m\n",
      "\u001b[39;49m|        |           |                                                |                     |                                                                         | \u001b[39;49mguest        |\n",
      "\u001b[39;49m|        | POST      | login                                          |                     | App\\Http\\Controllers\\Auth\\AuthenticatedSessionController@store          | web\u001b[39;49m\u001b[39;49m          |\u001b[39;49m\n",
      "\u001b[39;49m|        |           |                                                |                     |                                                                         | \u001b[39;49mguest        |\n",
      "\u001b[39;49m|        | POST      | logout                                         | logout              | App\\Http\\Controllers\\Auth\\AuthenticatedSessionController@destroy        | web\u001b[39;49m\u001b[39;49m          |\u001b[39;49m\n",
      "\u001b[39;49m|        |           |                                                |                     |                                                                         | \u001b[39;49mauth         |\n",
      "\u001b[39;49m|        | GET|HEAD  | register                                       | register            | App\\Http\\Controllers\\Auth\\RegisteredUserController@create               | web\u001b[39;49m\u001b[39;49m          |\u001b[39;49m\n",
      "\u001b[39;49m|        |           |                                                |                     |                                                                         | \u001b[39;49mguest        |\n",
      "\u001b[39;49m|        | POST      | register                                       |                     | App\\Http\\Controllers\\Auth\\RegisteredUserController@store                | web\u001b[39;49m\u001b[39;49m          |\u001b[39;49m\n",
      "\u001b[39;49m|        |           |                                                |                     |                                                                         | \u001b[39;49mguest        |\n",
      "\u001b[39;49m|        | POST      | reset-password                                 | password.update     | App\\Http\\Controllers\\Auth\\NewPasswordController@store                   | web\u001b[39;49m\u001b[39;49m          |\u001b[39;49m\n",
      "\u001b[39;49m|        |           |                                                |                     |                                                                         | \u001b[39;49mguest        |\n",
      "\u001b[39;49m|        | GET|HEAD  | reset-password/{token}                         | password.reset      | App\\Http\\Controllers\\Auth\\NewPasswordController@create                  | web\u001b[39;49m\u001b[39;49m          |\u001b[39;49m\n",
      "\u001b[39;49m|        |           |                                                |                     |                                                                         | \u001b[39;49mguest        |\n",
      "\u001b[39;49m|        | GET|HEAD  | verify-email                                   | verification.notice | App\\Http\\Controllers\\Auth\\EmailVerificationPromptController@__invoke    | web\u001b[39;49m\u001b[39;49m          |\u001b[39;49m\n",
      "\u001b[39;49m|        |           |                                                |                     |                                                                         | \u001b[39;49mauth         |\n",
      "\u001b[39;49m|        | GET|HEAD  | verify-email/{id}/{hash}                       | verification.verify | App\\Http\\Controllers\\Auth\\VerifyEmailController@__invoke                | web\u001b[39;49m\u001b[39;49m          |\u001b[39;49m\n",
      "\u001b[39;49m|        |           |                                                |                     |                                                                         | \u001b[39;49m\u001b[39;49mauth\u001b[39;49m\u001b[39;49m         |\u001b[39;49m\n",
      "\u001b[39;49m|        |           |                                                |                     |                                                                         | \u001b[39;49m\u001b[39;49msigned\u001b[39;49m\u001b[39;49m       |\u001b[39;49m\n",
      "\u001b[39;49m|        |           |                                                |                     |                                                                         | \u001b[39;49mthrottle:6,1 |\n",
      "|        | GET|HEAD  | {url}.com                                      | index               | App\\Http\\Controllers\\WebsiteController@index                            | web          |\n",
      "|        | GET|HEAD  | {url}.com/admin                                |                     | App\\Http\\Controllers\\PageController@index                               | web          |\n",
      "|        | POST      | {url}.com/admin/gallery                        |                     | App\\Http\\Controllers\\GalleryController@upload                           | web          |\n",
      "|        | GET|HEAD  | {url}.com/admin/gallery                        | index               | App\\Http\\Controllers\\GalleryController@index                            | web          |\n",
      "|        | DELETE    | {url}.com/admin/gallery/{id}                   |                     | App\\Http\\Controllers\\GalleryController@destroy                          | web          |\n",
      "|        | POST      | {url}.com/admin/pages                          | pages.store         | App\\Http\\Controllers\\PageController@store                               | web          |\n",
      "|        | GET|HEAD  | {url}.com/admin/pages                          | pages.index         | App\\Http\\Controllers\\PageController@index                               | web          |\n",
      "|        | GET|HEAD  | {url}.com/admin/pages/create                   | pages.create        | App\\Http\\Controllers\\PageController@create                              | web          |\n",
      "|        | PUT|PATCH | {url}.com/admin/pages/{page}                   | pages.update        | App\\Http\\Controllers\\PageController@update                              | web          |\n",
      "|        | DELETE    | {url}.com/admin/pages/{page}                   | pages.destroy       | App\\Http\\Controllers\\PageController@destroy                             | web          |\n",
      "|        | GET|HEAD  | {url}.com/admin/pages/{page}                   | pages.show          | App\\Http\\Controllers\\PageController@show                                | web          |\n",
      "|        | GET|HEAD  | {url}.com/admin/pages/{page}/edit              | pages.edit          | App\\Http\\Controllers\\PageController@edit                                | web          |\n",
      "|        | GET|HEAD  | {url}.com/admin/pages/{page}/menus             | pages.menus.index   | App\\Http\\Controllers\\PageMenuController@index                           | web          |\n",
      "|        | POST      | {url}.com/admin/pages/{page}/menus             | pages.menus.store   | App\\Http\\Controllers\\PageMenuController@store                           | web          |\n",
      "|        | GET|HEAD  | {url}.com/admin/pages/{page}/menus/create      | pages.menus.create  | App\\Http\\Controllers\\PageMenuController@create                          | web          |\n",
      "|        | GET|HEAD  | {url}.com/admin/pages/{page}/menus/{menu}      | pages.menus.show    | App\\Http\\Controllers\\PageMenuController@show                            | web          |\n",
      "|        | PUT|PATCH | {url}.com/admin/pages/{page}/menus/{menu}      | pages.menus.update  | App\\Http\\Controllers\\PageMenuController@update                          | web          |\n",
      "|        | DELETE    | {url}.com/admin/pages/{page}/menus/{menu}      | pages.menus.destroy | App\\Http\\Controllers\\PageMenuController@destroy                         | web          |\n",
      "|        | GET|HEAD  | {url}.com/admin/pages/{page}/menus/{menu}/edit | pages.menus.edit    | App\\Http\\Controllers\\PageMenuController@edit                            | web          |\n"
     ]
    },
    {
     "name": "stdout",
     "output_type": "stream",
     "text": [
      "|        | GET|HEAD  | {url}.com/gallery                              |                     | App\\Http\\Controllers\\FinalGalleryController@index                       | web          |\r\n",
      "+--------+-----------+------------------------------------------------+---------------------+-------------------------------------------------------------------------+--------------+\r\n"
     ]
    }
   ],
   "source": [
    "! php artisan route:list"
   ]
  },
  {
   "cell_type": "code",
   "execution_count": 14,
   "metadata": {},
   "outputs": [
    {
     "name": "stdout",
     "output_type": "stream",
     "text": [
      "\u001b[32mController created successfully.\u001b[39m\r\n"
     ]
    }
   ],
   "source": [
    "! php artisan make:controller PageGallery"
   ]
  },
  {
   "cell_type": "code",
   "execution_count": 74,
   "metadata": {},
   "outputs": [
    {
     "name": "stdout",
     "output_type": "stream",
     "text": [
      "\u001b[32mCreated Migration:\u001b[39m 2021_01_18_131543_add_page_id_to_galleries_table\r\n"
     ]
    }
   ],
   "source": [
    "! php artisan make:migration add_page_id_to_galleries_table"
   ]
  },
  {
   "cell_type": "code",
   "execution_count": 67,
   "metadata": {},
   "outputs": [
    {
     "name": "stdout",
     "output_type": "stream",
     "text": [
      "\u001b[32mCreated Migration:\u001b[39m 2021_01_18_131327_create_galleries_table\r\n"
     ]
    }
   ],
   "source": [
    "! php artisan make:migration create_galleries_table"
   ]
  },
  {
   "cell_type": "code",
   "execution_count": 82,
   "metadata": {},
   "outputs": [
    {
     "name": "stdout",
     "output_type": "stream",
     "text": [
      "\u001b[32mModel created successfully.\u001b[39m\r\n"
     ]
    }
   ],
   "source": [
    "! php artisan make:model Galleries"
   ]
  },
  {
   "cell_type": "code",
   "execution_count": 90,
   "metadata": {},
   "outputs": [
    {
     "name": "stdout",
     "output_type": "stream",
     "text": [
      "\u001b[32mController created successfully.\u001b[39m\r\n"
     ]
    }
   ],
   "source": [
    "! php artisan make:controller GalleriesController"
   ]
  },
  {
   "cell_type": "code",
   "execution_count": null,
   "metadata": {},
   "outputs": [],
   "source": []
  }
 ],
 "metadata": {
  "kernelspec": {
   "display_name": "Python 3",
   "language": "python",
   "name": "python3"
  },
  "language_info": {
   "codemirror_mode": {
    "name": "ipython",
    "version": 3
   },
   "file_extension": ".py",
   "mimetype": "text/x-python",
   "name": "python",
   "nbconvert_exporter": "python",
   "pygments_lexer": "ipython3",
   "version": "3.8.3"
  }
 },
 "nbformat": 4,
 "nbformat_minor": 4
}
