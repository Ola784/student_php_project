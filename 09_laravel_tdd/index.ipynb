{
 "cells": [
  {
   "cell_type": "markdown",
   "metadata": {},
   "source": [
    "# PHP 2020"
   ]
  },
  {
   "cell_type": "markdown",
   "metadata": {},
   "source": [
    "## 9. Laravel TDD"
   ]
  },
  {
   "cell_type": "markdown",
   "metadata": {},
   "source": [
    "Tasks:\n",
    "\n",
    "- Fix failing tests by implementing missing functionality using Laravel\n",
    "- Do not modify tests or scripts\n",
    "- Remember to regenerate database dump after database migrations or seeding"
   ]
  },
  {
   "cell_type": "markdown",
   "metadata": {},
   "source": [
    "Resources:\n",
    "\n",
    "- [Authentication](https://laravel.com/docs/8.x/authentication)\n",
    "- [Starter Kits / Laravel Breeze](https://laravel.com/docs/8.x/starter-kits)\n",
    "- [Blade Templates](https://laravel.com/docs/8.x/blade)\n",
    "- [Tailwind CSS](https://tailwindcss.com/)\n",
    "- [graham-campbell/markdown](https://packagist.org/packages/graham-campbell/markdown)"
   ]
  },
  {
   "cell_type": "markdown",
   "metadata": {},
   "source": [
    "Start database:"
   ]
  },
  {
   "cell_type": "code",
   "execution_count": 18,
   "metadata": {},
   "outputs": [
    {
     "name": "stdout",
     "output_type": "stream",
     "text": [
      "68b7d5ce2fe44fb1e440db32f18e86b2f2e14351a326eb5e91f567ad761a825c\r\n"
     ]
    }
   ],
   "source": [
    "! docker run --name=mysql --net=host --rm --env MYSQL_ROOT_PASSWORD=root123 --env MYSQL_DATABASE=test --env MYSQL_USER=test --env MYSQL_PASSWORD=test123 -d mysql/mysql-server:8.0"
   ]
  },
  {
   "cell_type": "code",
   "execution_count": 19,
   "metadata": {},
   "outputs": [
    {
     "name": "stdout",
     "output_type": "stream",
     "text": [
      "Done.\r\n"
     ]
    }
   ],
   "source": [
    "! while ! timeout 1 bash -c \"echo > /dev/tcp/localhost/3306\" 2> /dev/null; do sleep 1; done; echo \"Done.\";"
   ]
  },
  {
   "cell_type": "markdown",
   "metadata": {},
   "source": [
    "Edit the code:"
   ]
  },
  {
   "cell_type": "code",
   "execution_count": 33,
   "metadata": {},
   "outputs": [
    {
     "name": "stdout",
     "output_type": "stream",
     "text": [
      "OpenJDK 64-Bit Server VM warning: Option UseConcMarkSweepGC was deprecated in version 9.0 and will likely be removed in a future release.\n",
      "2021-01-27 10:52:52,440 [   4533]   WARN - Container.ComponentManagerImpl - Do not use constructor injection (requestorClass=org.jetbrains.plugins.phpstorm.PhpStormInitialConfigurator) \n",
      "2021-01-27 10:53:04,034 [  16127]   WARN - pl.local.NativeFileWatcherImpl - Watcher terminated with exit code 3 \n",
      "2021-01-27 10:53:04,243 [  16336]   WARN - pl.local.NativeFileWatcherImpl - Watcher terminated with exit code 3 \n",
      "2021-01-27 10:53:04,380 [  16473]   WARN - pl.local.NativeFileWatcherImpl - Watcher terminated with exit code 3 \n",
      "2021-01-27 10:53:04,527 [  16620]   WARN - pl.local.NativeFileWatcherImpl - Watcher terminated with exit code 3 \n",
      "2021-01-27 10:53:04,660 [  16753]   WARN - com.intellij.util.xmlb.Binding - no accessors for com.jetbrains.php.testFramework.PhpTestFrameworkType \n",
      "2021-01-27 10:53:04,689 [  16782]   WARN - pl.local.NativeFileWatcherImpl - Watcher terminated with exit code 3 \n",
      "2021-01-27 10:53:04,841 [  16934]   WARN - pl.local.NativeFileWatcherImpl - Watcher terminated with exit code 3 \n",
      "2021-01-27 10:53:04,992 [  17085]   WARN - pl.local.NativeFileWatcherImpl - Watcher terminated with exit code 3 \n",
      "2021-01-27 10:53:05,155 [  17248]   WARN - pl.local.NativeFileWatcherImpl - Watcher terminated with exit code 3 \n",
      "2021-01-27 10:53:05,306 [  17399]   WARN - pl.local.NativeFileWatcherImpl - Watcher terminated with exit code 3 \n",
      "2021-01-27 10:53:05,460 [  17553]   WARN - pl.local.NativeFileWatcherImpl - Watcher terminated with exit code 3 \n",
      "2021-01-27 10:53:05,460 [  17553]   WARN - api.vfs.impl.local.FileWatcher - File watcher failed to start \n"
     ]
    }
   ],
   "source": [
    "! phpstorm project"
   ]
  },
  {
   "cell_type": "markdown",
   "metadata": {},
   "source": [
    "You can test your solution using included tests:"
   ]
  },
  {
   "cell_type": "code",
   "execution_count": 15,
   "metadata": {},
   "outputs": [
    {
     "name": "stdout",
     "output_type": "stream",
     "text": [
      "/home/student/proj_lar2/php_2020_laravel_cms_w_snake_case/09_laravel_tdd\n"
     ]
    }
   ],
   "source": [
    "%cd .."
   ]
  },
  {
   "cell_type": "code",
   "execution_count": 20,
   "metadata": {},
   "outputs": [
    {
     "name": "stdout",
     "output_type": "stream",
     "text": [
      "/home/student/proj_lar2/php_2020_laravel_cms_w_snake_case/09_laravel_tdd/project\n"
     ]
    }
   ],
   "source": [
    "%cd project"
   ]
  },
  {
   "cell_type": "code",
   "execution_count": 21,
   "metadata": {},
   "outputs": [
    {
     "name": "stdout",
     "output_type": "stream",
     "text": [
      "\u001b[32mLoading composer repositories with package information\u001b[39m\n",
      "\u001b[32mInstalling dependencies (including require-dev) from lock file\u001b[39m\n",
      "Nothing to install or update\n",
      "\u001b[32mGenerating optimized autoload files\u001b[39m\n",
      "\u001b[30;43mDeprecation Notice: Class App\\Http\\Requests\\Post\\StoreArticleRequest located in ./app/Http/Requests/Post/StorePostRequest.php does not comply with psr-4 autoloading standard. It will not autoload anymore in Composer v2.0. in phar:///usr/local/bin/composer/src/Composer/Autoload/ClassMapGenerator.php:201\u001b[39;49m\n",
      "> Illuminate\\Foundation\\ComposerScripts::postAutoloadDump\n",
      "> @php artisan package:discover --ansi\n",
      "Discovered Package: \u001b[32mfacade/ignition\u001b[39m\n",
      "Discovered Package: \u001b[32mfideloper/proxy\u001b[39m\n",
      "Discovered Package: \u001b[32mfruitcake/laravel-cors\u001b[39m\n",
      "Discovered Package: \u001b[32mgraham-campbell/markdown\u001b[39m\n",
      "Discovered Package: \u001b[32mlaravel/breeze\u001b[39m\n",
      "Discovered Package: \u001b[32mlaravel/sail\u001b[39m\n",
      "Discovered Package: \u001b[32mlaravel/tinker\u001b[39m\n",
      "Discovered Package: \u001b[32mnesbot/carbon\u001b[39m\n",
      "Discovered Package: \u001b[32mnunomaduro/collision\u001b[39m\n",
      "Discovered Package: \u001b[32mparsedown/laravel\u001b[39m\n",
      "\u001b[32mPackage manifest generated successfully.\u001b[39m\n",
      "\u001b[32m79 packages you are using are looking for funding.\u001b[39m\n",
      "\u001b[32mUse the `composer fund` command to find out more!\u001b[39m\n"
     ]
    }
   ],
   "source": [
    "! composer install"
   ]
  },
  {
   "cell_type": "code",
   "execution_count": 22,
   "metadata": {},
   "outputs": [],
   "source": [
    "! cp .env.example .env"
   ]
  },
  {
   "cell_type": "code",
   "execution_count": 23,
   "metadata": {},
   "outputs": [
    {
     "name": "stdout",
     "output_type": "stream",
     "text": [
      "\u001b[32mApplication key set successfully.\u001b[39m\r\n"
     ]
    }
   ],
   "source": [
    "! php artisan key:generate"
   ]
  },
  {
   "cell_type": "code",
   "execution_count": 24,
   "metadata": {},
   "outputs": [
    {
     "name": "stdout",
     "output_type": "stream",
     "text": [
      "\u001b[32mDropped all tables successfully.\u001b[39m\n",
      "\u001b[32mMigration table created successfully.\u001b[39m\n",
      "\u001b[33mMigrating:\u001b[39m 2014_10_12_000000_create_users_table\n",
      "\u001b[32mMigrated:\u001b[39m  2014_10_12_000000_create_users_table (41.60ms)\n",
      "\u001b[33mMigrating:\u001b[39m 2014_10_12_100000_create_password_resets_table\n",
      "\u001b[32mMigrated:\u001b[39m  2014_10_12_100000_create_password_resets_table (40.06ms)\n",
      "\u001b[33mMigrating:\u001b[39m 2019_08_19_000000_create_failed_jobs_table\n",
      "\u001b[32mMigrated:\u001b[39m  2019_08_19_000000_create_failed_jobs_table (50.22ms)\n",
      "\u001b[33mMigrating:\u001b[39m 2020_12_15_145710_create_comments_table\n",
      "\u001b[32mMigrated:\u001b[39m  2020_12_15_145710_create_comments_table (30.35ms)\n",
      "\u001b[33mMigrating:\u001b[39m 2021_01_09_095028_create_pages_table\n",
      "\u001b[32mMigrated:\u001b[39m  2021_01_09_095028_create_pages_table (23.40ms)\n",
      "\u001b[33mMigrating:\u001b[39m 2021_01_09_100010_create_user_page_table\n",
      "\u001b[32mMigrated:\u001b[39m  2021_01_09_100010_create_user_page_table (32.81ms)\n",
      "\u001b[33mMigrating:\u001b[39m 2021_01_11_150433_add_url_to_users\n",
      "\u001b[32mMigrated:\u001b[39m  2021_01_11_150433_add_url_to_users (38.23ms)\n",
      "\u001b[33mMigrating:\u001b[39m 2021_01_11_153310_create_menus_table\n",
      "\u001b[32mMigrated:\u001b[39m  2021_01_11_153310_create_menus_table (40.30ms)\n",
      "\u001b[33mMigrating:\u001b[39m 2021_01_13_115139_create_websites_table\n",
      "\u001b[32mMigrated:\u001b[39m  2021_01_13_115139_create_websites_table (157.63ms)\n",
      "\u001b[33mMigrating:\u001b[39m 2021_01_13_132547_add_page_id_to_menus_table\n",
      "\u001b[32mMigrated:\u001b[39m  2021_01_13_132547_add_page_id_to_menus_table (80.68ms)\n",
      "\u001b[33mMigrating:\u001b[39m 2021_01_14_113503_create_categories_table\n",
      "\u001b[32mMigrated:\u001b[39m  2021_01_14_113503_create_categories_table (33.97ms)\n",
      "\u001b[33mMigrating:\u001b[39m 2021_01_14_113608_create_posts_table\n",
      "\u001b[32mMigrated:\u001b[39m  2021_01_14_113608_create_posts_table (21.10ms)\n",
      "\u001b[33mMigrating:\u001b[39m 2021_01_18_131327_create_galleries_table\n",
      "\u001b[32mMigrated:\u001b[39m  2021_01_18_131327_create_galleries_table (21.98ms)\n",
      "\u001b[33mMigrating:\u001b[39m 2021_01_18_131543_add_page_id_to_galleries_table\n",
      "\u001b[32mMigrated:\u001b[39m  2021_01_18_131543_add_page_id_to_galleries_table (74.52ms)\n",
      "\u001b[33mMigrating:\u001b[39m 2021_01_19_201735_create_images_table\n",
      "\u001b[32mMigrated:\u001b[39m  2021_01_19_201735_create_images_table (18.38ms)\n",
      "\u001b[33mMigrating:\u001b[39m 2021_01_19_201802_add_gallery_id_to_images_table\n",
      "\u001b[32mMigrated:\u001b[39m  2021_01_19_201802_add_gallery_id_to_images_table (93.41ms)\n",
      "\u001b[33mMigrating:\u001b[39m 2021_01_20_115021_create_contacts_table\n",
      "\u001b[32mMigrated:\u001b[39m  2021_01_20_115021_create_contacts_table (35.87ms)\n",
      "\u001b[33mMigrating:\u001b[39m 2021_01_20_204353_add_page_id_to_posts\n",
      "\u001b[32mMigrated:\u001b[39m  2021_01_20_204353_add_page_id_to_posts (90.08ms)\n",
      "\u001b[33mMigrating:\u001b[39m 2021_01_23_130712_add_website_id_to_pages_table\n",
      "\u001b[32mMigrated:\u001b[39m  2021_01_23_130712_add_website_id_to_pages_table (95.84ms)\n"
     ]
    }
   ],
   "source": [
    "! php artisan migrate:fresh"
   ]
  },
  {
   "cell_type": "code",
   "execution_count": 25,
   "metadata": {
    "scrolled": true
   },
   "outputs": [
    {
     "name": "stdout",
     "output_type": "stream",
     "text": [
      "\u001b[33mSeeding:\u001b[39m Database\\Seeders\\UserSeeder\n",
      "\u001b[32mSeeded:\u001b[39m  Database\\Seeders\\UserSeeder (327.88ms)\n",
      "\u001b[32mDatabase seeding completed successfully.\u001b[39m\n"
     ]
    }
   ],
   "source": [
    "! php artisan db:seed"
   ]
  },
  {
   "cell_type": "code",
   "execution_count": 26,
   "metadata": {},
   "outputs": [
    {
     "name": "stdout",
     "output_type": "stream",
     "text": [
      "mysqldump: [Warning] Using a password on the command line interface can be insecure.\r\n"
     ]
    }
   ],
   "source": [
    "! docker exec mysql mysqldump -u root --password=root123 test > tests_codeception/_data/dump.sql"
   ]
  },
  {
   "cell_type": "code",
   "execution_count": 34,
   "metadata": {},
   "outputs": [
    {
     "name": "stdout",
     "output_type": "stream",
     "text": [
      "/usr/bin/sh: 1: vendor/bin/phpunit: not found\r\n"
     ]
    }
   ],
   "source": [
    "! vendor/bin/phpunit"
   ]
  },
  {
   "cell_type": "code",
   "execution_count": 28,
   "metadata": {},
   "outputs": [],
   "source": [
    "import subprocess\n",
    "artisanServe = subprocess.Popen(['php', 'artisan', 'serve', '--port', '8888'])"
   ]
  },
  {
   "cell_type": "code",
   "execution_count": 29,
   "metadata": {},
   "outputs": [
    {
     "name": "stdout",
     "output_type": "stream",
     "text": [
      "Codeception PHP Testing Framework v4.1.12\n",
      "Powered by PHPUnit 9.5.0 by Sebastian Bergmann and contributors.\n",
      "Running with seed: \n",
      "\n",
      "\n",
      "\u001b[1mAcceptance Tests (9) \u001b[22m-----------------------------------------------------------\n",
      "\u001b[32;1m✔\u001b[39;22m \u001b[35;1m01_HomepageCept:\u001b[39;22m See homepage \u001b[32m(0.17s)\u001b[39m\n",
      "\u001b[32;1m✔\u001b[39;22m \u001b[35;1m02_CommentsCept:\u001b[39;22m See comments from DB displayed on page \u001b[32m(0.14s)\u001b[39m\n",
      "\u001b[32;1m✔\u001b[39;22m \u001b[35;1m03_LoginCept:\u001b[39;22m Login with existing user \u001b[32m(0.29s)\u001b[39m\n",
      "\u001b[32;1m✔\u001b[39;22m \u001b[35;1m04_PagesCept:\u001b[39;22m Have pages under website \u001b[32m(1.23s)\u001b[39m\n",
      "\u001b[32;1m✔\u001b[39;22m \u001b[35;1m05_PagesMenusCept:\u001b[39;22m Have menus page \u001b[32m(1.54s)\u001b[39m\n",
      "\u001b[32;1m✔\u001b[39;22m \u001b[35;1m06_PagesGalleriesCept:\u001b[39;22m Have galleries page \u001b[32m(1.51s)\u001b[39m\n",
      "\u001b[32;1m✔\u001b[39;22m \u001b[35;1m07_GalleryImageCept:\u001b[39;22m Can add images to gallery \u001b[32m(0.77s)\u001b[39m\n",
      "\u001b[32;1m✔\u001b[39;22m \u001b[35;1m08_PagesPostsCept:\u001b[39;22m Have posts page \u001b[32m(0.79s)\u001b[39m\n",
      "\u001b[31;1m✖\u001b[39;22m \u001b[35;1m09_FinalPageCept:\u001b[39;22m Menus, gallery, posts are on main page \u001b[32m(0.92s)\u001b[39m\n",
      "--------------------------------------------------------------------------------\n",
      "\n",
      "\u001b[1mFunctional Tests (0) \u001b[22m-----------------------------------------------------------\n",
      "--------------------------------------------------------------------------------\n",
      "\n",
      "\u001b[1mUnit Tests (0) \u001b[22m-----------------------------------------------------------------\n",
      "--------------------------------------------------------------------------------\n",
      "\n",
      "\n",
      "Time: 00:14.134, Memory: 16.00 MB\n",
      "\n",
      "There was 1 failure:\n",
      "\n",
      "---------\n",
      "1) \u001b[35;1m09_FinalPageCept:\u001b[39;22m Menus, gallery, posts are on main page\n",
      "\u001b[37;41;1m Test \u001b[39;49;22m tests_codeception/acceptance/09_FinalPageCept.php\n",
      "\u001b[37;41;1m Step \u001b[39;49;22m See \"Send Message\"\n",
      "\u001b[37;41;1m Fail \u001b[39;49;22m Failed asserting that  on page /contact\n",
      "-->  Contact Us Form .div_border{ width:60%; margin:0 auto; border:1px solid #ccc; } .has-error { border-color:#cc0000;a background-color:#ffff99; } Contact Us Name Email Message \n",
      "--> contains \"Send Message\".\n",
      "\u001b[33m\n",
      "Scenario Steps:\n",
      "\u001b[39m\n",
      "\u001b[1m 36. $I->see(\"Send Message\")\u001b[22m at \u001b[32mtests_codeception/acceptance/09_FinalPageCept.php:92\u001b[39m\n",
      " 35. $I->see(\"Message\") at \u001b[32mtests_codeception/acceptance/09_FinalPageCept.php:91\u001b[39m\n",
      " 34. $I->see(\"Email\") at \u001b[32mtests_codeception/acceptance/09_FinalPageCept.php:90\u001b[39m\n",
      " 33. $I->see(\"Name\") at \u001b[32mtests_codeception/acceptance/09_FinalPageCept.php:89\u001b[39m\n",
      " 32. $I->seeCurrentUrlEquals(\"/contact\") at \u001b[32mtests_codeception/acceptance/09_FinalPageCept.php:88\u001b[39m\n",
      " 31. $I->click(\"contact\") at \u001b[32mtests_codeception/acceptance/09_FinalPageCept.php:87\u001b[39m\n",
      "\n",
      "\u001b[33mArtifacts:\u001b[39m\n",
      "\n",
      "Html: \u001b[36m/home/student/proj_lar2/php_2020_laravel_cms_w_snake_case/09_laravel_tdd/project/tests_codeception/_output/09_FinalPageCept.fail.html\u001b[39m\n",
      "Response: \u001b[36m/home/student/proj_lar2/php_2020_laravel_cms_w_snake_case/09_laravel_tdd/project/tests_codeception/_output/09_FinalPageCept.fail.html\u001b[39m\n",
      "\n",
      "\u001b[37;41mFAILURES!\u001b[0m\n",
      "\u001b[37;41mTests: 9\u001b[0m\u001b[37;41m, Assertions: 134\u001b[0m\u001b[37;41m, Failures: 1\u001b[0m\u001b[37;41m.\u001b[0m\n"
     ]
    }
   ],
   "source": [
    "! vendor/bin/codecept run"
   ]
  },
  {
   "cell_type": "code",
   "execution_count": 32,
   "metadata": {},
   "outputs": [],
   "source": [
    "! killall php php7.4"
   ]
  },
  {
   "cell_type": "code",
   "execution_count": 30,
   "metadata": {},
   "outputs": [
    {
     "name": "stdout",
     "output_type": "stream",
     "text": [
      "/home/student/proj_lar2/php_2020_laravel_cms_w_snake_case/09_laravel_tdd\n"
     ]
    }
   ],
   "source": [
    "%cd .."
   ]
  },
  {
   "cell_type": "markdown",
   "metadata": {},
   "source": [
    "Stop database:"
   ]
  },
  {
   "cell_type": "code",
   "execution_count": 17,
   "metadata": {},
   "outputs": [
    {
     "name": "stdout",
     "output_type": "stream",
     "text": [
      "mysql\r\n"
     ]
    }
   ],
   "source": [
    "! docker container stop mysql"
   ]
  },
  {
   "cell_type": "code",
   "execution_count": null,
   "metadata": {},
   "outputs": [],
   "source": [
    "! php artisan route:list"
   ]
  },
  {
   "cell_type": "code",
   "execution_count": null,
   "metadata": {},
   "outputs": [],
   "source": [
    "! php artisan make:controller PageGallery"
   ]
  },
  {
   "cell_type": "code",
   "execution_count": null,
   "metadata": {},
   "outputs": [],
   "source": [
    "! php artisan make:migration add_page_id_to_galleries_table"
   ]
  },
  {
   "cell_type": "code",
   "execution_count": null,
   "metadata": {},
   "outputs": [],
   "source": [
    "! php artisan make:migration create_galleries_table"
   ]
  },
  {
   "cell_type": "code",
   "execution_count": null,
   "metadata": {},
   "outputs": [],
   "source": [
    "! php artisan make:model Galleries"
   ]
  },
  {
   "cell_type": "code",
   "execution_count": null,
   "metadata": {},
   "outputs": [],
   "source": [
    "! php artisan make:controller GalleriesController"
   ]
  },
  {
   "cell_type": "code",
   "execution_count": null,
   "metadata": {},
   "outputs": [],
   "source": []
  }
 ],
 "metadata": {
  "kernelspec": {
   "display_name": "Python 3",
   "language": "python",
   "name": "python3"
  },
  "language_info": {
   "codemirror_mode": {
    "name": "ipython",
    "version": 3
   },
   "file_extension": ".py",
   "mimetype": "text/x-python",
   "name": "python",
   "nbconvert_exporter": "python",
   "pygments_lexer": "ipython3",
   "version": "3.8.3"
  }
 },
 "nbformat": 4,
 "nbformat_minor": 4
}
